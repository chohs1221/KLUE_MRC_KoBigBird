{
 "cells": [
  {
   "cell_type": "markdown",
   "metadata": {
    "id": "4V1iy8jrUCQR"
   },
   "source": [
    "# Requirments"
   ]
  },
  {
   "cell_type": "markdown",
   "metadata": {
    "id": "wjNc9QiYxTgK"
   },
   "source": [
    "## Import"
   ]
  },
  {
   "cell_type": "code",
   "execution_count": 1,
   "metadata": {
    "executionInfo": {
     "elapsed": 7941,
     "status": "ok",
     "timestamp": 1649532146293,
     "user": {
      "displayName": "조현수",
      "userId": "06575509224308139266"
     },
     "user_tz": -540
    },
    "id": "f1Fm4Dx_xTFK"
   },
   "outputs": [],
   "source": [
    "import os\n",
    "import random\n",
    "import math\n",
    "import csv\n",
    "import json\n",
    "from tqdm.notebook import tqdm\n",
    "from easydict import EasyDict as edict\n",
    "from statistics import mean\n",
    "from typing import List, Tuple, Dict, Any\n",
    "\n",
    "import numpy as np\n",
    "from sklearn.preprocessing import StandardScaler\n",
    "import matplotlib.pyplot as plt\n",
    "\n",
    "import wandb\n",
    "\n",
    "import torch\n",
    "from torch.utils.data import DataLoader\n",
    "from torch.nn.utils import clip_grad_norm_\n",
    "from torch.nn.utils.rnn import pad_sequence\n",
    "import torch.nn.functional as F\n",
    "\n",
    "from torchinfo import summary\n",
    "\n",
    "from transformers import ElectraModel, ElectraTokenizer, ElectraForQuestionAnswering, AutoModelForQuestionAnswering, AutoTokenizer"
   ]
  },
  {
   "cell_type": "code",
   "execution_count": 2,
   "metadata": {
    "executionInfo": {
     "elapsed": 9,
     "status": "ok",
     "timestamp": 1649532146294,
     "user": {
      "displayName": "조현수",
      "userId": "06575509224308139266"
     },
     "user_tz": -540
    },
    "id": "3Xzif3OL_oAC"
   },
   "outputs": [],
   "source": [
    "for name in 'models', 'submissions':\n",
    "    os.makedirs(name, exist_ok=True)"
   ]
  },
  {
   "cell_type": "markdown",
   "metadata": {
    "id": "aZI1eMrCRjLY"
   },
   "source": [
    "# Set Arguments, Hyper-parameters"
   ]
  },
  {
   "cell_type": "code",
   "execution_count": 3,
   "metadata": {
    "executionInfo": {
     "elapsed": 7,
     "status": "ok",
     "timestamp": 1649532146294,
     "user": {
      "displayName": "조현수",
      "userId": "06575509224308139266"
     },
     "user_tz": -540
    },
    "id": "j3W659v9z1Vl"
   },
   "outputs": [
    {
     "name": "stdout",
     "output_type": "stream",
     "text": [
      "kobigbird_ep10_max2048_lr6e-05_42\n"
     ]
    }
   ],
   "source": [
    "args = edict({'w_project': 'test_project',\n",
    "              'w_entity': 'chohs1221',\n",
    "              'learning_rate': 6e-5,\n",
    "              'batch_size': {'train': 256,\n",
    "                             'eval': 16,\n",
    "                             'test': 256},\n",
    "              'accumulate': 64,\n",
    "              'epochs': 10,\n",
    "              'seed': 42,\n",
    "              # 'model_name': 'monologg/koelectra-base-v3-discriminator',\n",
    "              'model_name': 'monologg/kobigbird-bert-base',\n",
    "              'max_length': 2048})\n",
    "# args['NAME'] = ''f'koelectra_ep{args.epochs}_lr{args.learning_rate}_{random.randrange(0, 1024)}'\n",
    "args['NAME'] = ''f'kobigbird_ep{args.epochs}_max{args.max_length}_lr{args.learning_rate}_{random.randrange(0, 1024)}'\n",
    "print(args.NAME)"
   ]
  },
  {
   "cell_type": "markdown",
   "metadata": {
    "id": "EitWXKJmRw1b",
    "toc-hr-collapsed": true
   },
   "source": [
    "# Initialize"
   ]
  },
  {
   "cell_type": "markdown",
   "metadata": {
    "id": "51HhCeCTTDw5"
   },
   "source": [
    "## Wandb"
   ]
  },
  {
   "cell_type": "code",
   "execution_count": 4,
   "metadata": {},
   "outputs": [
    {
     "name": "stderr",
     "output_type": "stream",
     "text": [
      "\u001b[34m\u001b[1mwandb\u001b[0m: Currently logged in as: \u001b[33mchohs1221\u001b[0m (use `wandb login --relogin` to force relogin)\n"
     ]
    },
    {
     "data": {
      "text/plain": [
       "True"
      ]
     },
     "execution_count": 4,
     "metadata": {},
     "output_type": "execute_result"
    }
   ],
   "source": [
    "wandb.login()"
   ]
  },
  {
   "cell_type": "code",
   "execution_count": 5,
   "metadata": {
    "colab": {
     "base_uri": "https://localhost:8080/",
     "height": 109
    },
    "executionInfo": {
     "elapsed": 8124,
     "status": "ok",
     "timestamp": 1649532154412,
     "user": {
      "displayName": "조현수",
      "userId": "06575509224308139266"
     },
     "user_tz": -540
    },
    "id": "OACaHe-L-P-c",
    "outputId": "cac6c888-231e-490e-d321-718bd3fee890"
   },
   "outputs": [
    {
     "data": {
      "text/html": [
       "Tracking run with wandb version 0.12.14"
      ],
      "text/plain": [
       "<IPython.core.display.HTML object>"
      ]
     },
     "metadata": {},
     "output_type": "display_data"
    },
    {
     "data": {
      "text/html": [
       "Run data is saved locally in <code>/workspace/wandb/run-20220412_064624-qfco63jf</code>"
      ],
      "text/plain": [
       "<IPython.core.display.HTML object>"
      ]
     },
     "metadata": {},
     "output_type": "display_data"
    },
    {
     "data": {
      "text/html": [
       "Syncing run <strong><a href=\"https://wandb.ai/chohs1221/test_project/runs/qfco63jf\" target=\"_blank\">good-mountain-19</a></strong> to <a href=\"https://wandb.ai/chohs1221/test_project\" target=\"_blank\">Weights & Biases</a> (<a href=\"https://wandb.me/run\" target=\"_blank\">docs</a>)<br/>"
      ],
      "text/plain": [
       "<IPython.core.display.HTML object>"
      ]
     },
     "metadata": {},
     "output_type": "display_data"
    },
    {
     "data": {
      "text/html": [
       "<button onClick=\"this.nextSibling.style.display='block';this.style.display='none';\">Display W&B run</button><iframe src=\"https://wandb.ai/chohs1221/test_project/runs/qfco63jf?jupyter=true\" style=\"border:none;width:100%;height:420px;display:none;\"></iframe>"
      ],
      "text/plain": [
       "<wandb.sdk.wandb_run.Run at 0x7f495ba42340>"
      ]
     },
     "execution_count": 5,
     "metadata": {},
     "output_type": "execute_result"
    }
   ],
   "source": [
    "wandb.init(project = args.w_project, entity = args.w_entity)"
   ]
  },
  {
   "cell_type": "code",
   "execution_count": 6,
   "metadata": {
    "executionInfo": {
     "elapsed": 12,
     "status": "ok",
     "timestamp": 1649532154413,
     "user": {
      "displayName": "조현수",
      "userId": "06575509224308139266"
     },
     "user_tz": -540
    },
    "id": "kB3HPxSa-TIn"
   },
   "outputs": [],
   "source": [
    "wandb.run.name = args.NAME\n",
    "wandb.config.learning_rate = args.learning_rate\n",
    "wandb.config.epochs = args.epochs\n",
    "wandb.config.batch_size = args.batch_size"
   ]
  },
  {
   "cell_type": "markdown",
   "metadata": {
    "id": "F6uJSyQCSEoa"
   },
   "source": [
    "## Seed"
   ]
  },
  {
   "cell_type": "code",
   "execution_count": 7,
   "metadata": {
    "executionInfo": {
     "elapsed": 11,
     "status": "ok",
     "timestamp": 1649532154413,
     "user": {
      "displayName": "조현수",
      "userId": "06575509224308139266"
     },
     "user_tz": -540
    },
    "id": "j9b17md7VKba"
   },
   "outputs": [],
   "source": [
    "def seed_everything(seed):\n",
    "    random.seed(seed)\n",
    "    np.random.seed(seed)\n",
    "    os.environ[\"PYTHONHASHSEED\"] = str(seed)\n",
    "    torch.manual_seed(seed)\n",
    "    torch.cuda.manual_seed(seed)  # type: ignore\n",
    "    torch.backends.cudnn.deterministic = True  # type: ignore\n",
    "    torch.backends.cudnn.benchmark = True  # type: ignore\n",
    "\n",
    "seed_everything(args.seed)"
   ]
  },
  {
   "cell_type": "markdown",
   "metadata": {
    "id": "YbKj9juZVV7W",
    "tags": []
   },
   "source": [
    "## Tokenizer"
   ]
  },
  {
   "cell_type": "code",
   "execution_count": 8,
   "metadata": {
    "colab": {
     "base_uri": "https://localhost:8080/",
     "height": 0,
     "referenced_widgets": [
      "a1c035a6c60446a4b443ec729d00e7d7",
      "2679121ae7bd49fab5a9e9f74adc6e6c",
      "00ec2dd9391f4a10826f724ce711d80d",
      "823a62c6238343edbe232263a70289c3",
      "33145eae87e04019aaab299aef0c73df",
      "e3561aeee9c247a1a92c1df34e7ed509",
      "34d1094d406241d682ea8e9b83edd51f",
      "e214ec39d4344afc9ae0d4181fb06398",
      "5c88b5160f23451c9d61fb3a5009b021",
      "f0b50ee2438c45cab7201c8d26fdae40",
      "7bcb8fb2e34f48be860f3863501f843c",
      "ae27d442491940f1ac35f0062fec7983",
      "2ce4afd1875343aea4bc5c7f521b1e5c",
      "bb5f1351c68442449ec3c1b6e8133290",
      "a9e04b9c115b4d4591b227bf2912c774",
      "1b8597a0d76d4128a544701606260406",
      "5779b4e4d0e145f49a0da2a58358c294",
      "bc067dde7c2344eb8d8cfa097a394338",
      "13f5178ac1bc48139f7651840202914b",
      "5ce3e6559dff4b59aae228fdabf5a295",
      "0a90e8a449d54478a024fc48256174ec",
      "5a9d0101f98a48d6a775e4f659eaaa93",
      "86e18552dcb644cea29805c21752ecd3",
      "56aea15e6c624895852ef618d84fe690",
      "c863362dfda543b689aff138d823e73c",
      "547a7ffd4cf24f12bcbaa9f8bb6181a0",
      "38c59a4cf82446938c9c401aceab52db",
      "1d9ec925386947c48a18cf9c52b2e8dc",
      "150d3c4e01d04c96a23db71989ccaf5d",
      "27459b7d3341487bbb3afc098ebea413",
      "c8dd2c501fc3486e8687469421a3eb3c",
      "efbba03209f5470f8503d88b685415aa",
      "c10273b1b6524ccbbb553c6a2e500a2c"
     ]
    },
    "executionInfo": {
     "elapsed": 3588,
     "status": "ok",
     "timestamp": 1649532157991,
     "user": {
      "displayName": "조현수",
      "userId": "06575509224308139266"
     },
     "user_tz": -540
    },
    "id": "Sm8pjc33VKYg",
    "outputId": "57a0ce23-0357-4fd3-88d6-45af72415018"
   },
   "outputs": [],
   "source": [
    "# tokenizer = ElectraTokenizer.from_pretrained(args.model_name)\n",
    "tokenizer = AutoTokenizer.from_pretrained(args.model_name)"
   ]
  },
  {
   "cell_type": "markdown",
   "metadata": {
    "id": "UEQiDROgVXmg",
    "tags": []
   },
   "source": [
    "## Model"
   ]
  },
  {
   "cell_type": "code",
   "execution_count": 9,
   "metadata": {
    "colab": {
     "base_uri": "https://localhost:8080/",
     "height": 657,
     "referenced_widgets": [
      "0458f51b68e345c481afcfedebd28da7",
      "b3ee09dbae5b419aa5dca8280991917a",
      "21aaf3c8d96d41c78ba0f9f9b3fb799e",
      "c0ed98ff850f49cea8aaac5bdfd397f9",
      "58706e9bade3490cad47b6a42f010da6",
      "dcc54673c0c346b5a4ef3adacee3b7c6",
      "34e6307be5cd4217a1f6daf995d58055",
      "33462c9795984bc6893f33998611a748",
      "77c8c54416f94386b69153897b83f2f0",
      "c00888417b344194847378c9424cafd4",
      "50f084ad7ed34f61b78cac60e521d5dc"
     ]
    },
    "executionInfo": {
     "elapsed": 15130,
     "status": "ok",
     "timestamp": 1649532173118,
     "user": {
      "displayName": "조현수",
      "userId": "06575509224308139266"
     },
     "user_tz": -540
    },
    "id": "ZJ-003lak8sj",
    "outputId": "f6b698bb-b693-42dd-f84b-1af91549ac75"
   },
   "outputs": [
    {
     "name": "stderr",
     "output_type": "stream",
     "text": [
      "Some weights of the model checkpoint at monologg/kobigbird-bert-base were not used when initializing BigBirdForQuestionAnswering: ['cls.seq_relationship.weight', 'cls.predictions.decoder.weight', 'bert.pooler.weight', 'cls.predictions.decoder.bias', 'cls.predictions.transform.LayerNorm.bias', 'cls.predictions.transform.dense.bias', 'cls.predictions.bias', 'cls.seq_relationship.bias', 'bert.pooler.bias', 'cls.predictions.transform.LayerNorm.weight', 'cls.predictions.transform.dense.weight']\n",
      "- This IS expected if you are initializing BigBirdForQuestionAnswering from the checkpoint of a model trained on another task or with another architecture (e.g. initializing a BertForSequenceClassification model from a BertForPreTraining model).\n",
      "- This IS NOT expected if you are initializing BigBirdForQuestionAnswering from the checkpoint of a model that you expect to be exactly identical (initializing a BertForSequenceClassification model from a BertForSequenceClassification model).\n",
      "Some weights of BigBirdForQuestionAnswering were not initialized from the model checkpoint at monologg/kobigbird-bert-base and are newly initialized: ['qa_classifier.qa_outputs.weight', 'qa_classifier.qa_outputs.bias', 'qa_classifier.output.dense.bias', 'qa_classifier.output.dense.weight', 'qa_classifier.intermediate.dense.weight', 'qa_classifier.output.LayerNorm.bias', 'qa_classifier.output.LayerNorm.weight', 'qa_classifier.intermediate.dense.bias']\n",
      "You should probably TRAIN this model on a down-stream task to be able to use it for predictions and inference.\n"
     ]
    }
   ],
   "source": [
    "# model = ElectraForQuestionAnswering.from_pretrained(args.model_name)\n",
    "model = AutoModelForQuestionAnswering.from_pretrained(args.model_name)\n",
    "# summary(model, (args.batch_size.train//args.accumulate, args.max_length), dtypes=['torch.IntTensor'], device='cpu')"
   ]
  },
  {
   "cell_type": "code",
   "execution_count": 10,
   "metadata": {
    "executionInfo": {
     "elapsed": 10272,
     "status": "ok",
     "timestamp": 1649532183383,
     "user": {
      "displayName": "조현수",
      "userId": "06575509224308139266"
     },
     "user_tz": -540
    },
    "id": "4OoYuu2ckzJ6"
   },
   "outputs": [],
   "source": [
    "model.cuda();"
   ]
  },
  {
   "cell_type": "markdown",
   "metadata": {
    "id": "9hCiOQO4VYqM",
    "jp-MarkdownHeadingCollapsed": true,
    "tags": []
   },
   "source": [
    "## Optimizer"
   ]
  },
  {
   "cell_type": "code",
   "execution_count": 11,
   "metadata": {
    "executionInfo": {
     "elapsed": 8,
     "status": "ok",
     "timestamp": 1649532183383,
     "user": {
      "displayName": "조현수",
      "userId": "06575509224308139266"
     },
     "user_tz": -540
    },
    "id": "TonS9AsIVQlv"
   },
   "outputs": [],
   "source": [
    "optimizer = torch.optim.AdamW(model.parameters(), lr=args.learning_rate)"
   ]
  },
  {
   "cell_type": "markdown",
   "metadata": {
    "id": "MlKUCHM9SUim",
    "tags": [],
    "toc-hr-collapsed": true
   },
   "source": [
    "# Datasets"
   ]
  },
  {
   "cell_type": "markdown",
   "metadata": {
    "id": "-SPF2-SSVoT5"
   },
   "source": [
    "## Load, Split"
   ]
  },
  {
   "cell_type": "code",
   "execution_count": 12,
   "metadata": {
    "executionInfo": {
     "elapsed": 9,
     "status": "ok",
     "timestamp": 1649532183384,
     "user": {
      "displayName": "조현수",
      "userId": "06575509224308139266"
     },
     "user_tz": -540
    },
    "id": "xoiHRyTOugMj"
   },
   "outputs": [],
   "source": [
    "class KoMRC:\n",
    "    def __init__(self, data, indices: List[Tuple[int, int, int]]):\n",
    "        self._data = data\n",
    "        self._indices = indices\n",
    "\n",
    "\n",
    "    # Json을 불러오는 메소드\n",
    "    @classmethod\n",
    "    def load(cls, file_path: str):\n",
    "        with open(file_path, 'r', encoding='utf-8') as fd:\n",
    "            data = json.load(fd)\n",
    "\n",
    "        indices = []\n",
    "        for d_id, document in enumerate(data['data']):\n",
    "            for p_id, paragraph in enumerate(document['paragraphs']):\n",
    "                for q_id, _ in enumerate(paragraph['qas']):\n",
    "                    indices.append((d_id, p_id, q_id))\n",
    "        \n",
    "        return cls(data, indices)\n",
    "\n",
    "\n",
    "    # 데이터 셋을 잘라내는 메소드\n",
    "    @classmethod\n",
    "    def split(cls, dataset, eval_ratio: float=.1):\n",
    "        indices = list(dataset._indices)\n",
    "        random.shuffle(indices)\n",
    "        train_indices = indices[int(len(indices) * eval_ratio):]\n",
    "        eval_indices = indices[:int(len(indices) * eval_ratio)]\n",
    "\n",
    "        return cls(dataset._data, train_indices), cls(dataset._data, eval_indices)\n",
    "\n",
    "\n",
    "    def __getitem__(self, index: int) -> Dict[str, Any]:\n",
    "        d_id, p_id, q_id = self._indices[index]\n",
    "        paragraph = self._data['data'][d_id]['paragraphs'][p_id]\n",
    "\n",
    "        qa = paragraph['qas'][q_id]\n",
    "\n",
    "        guid = qa['guid']\n",
    "\n",
    "        context = paragraph['context'].replace('\\n', 'n').replace('\\xad', '')\n",
    "\n",
    "        question = qa['question'].replace('\\n', 'n').replace('\\xad', '')\n",
    "\n",
    "        answers = qa['answers']\n",
    "        if answers != None:\n",
    "            for a in answers:\n",
    "                a['text'] = a['text'].replace('\\n', 'n').replace('\\xad', '')\n",
    "\n",
    "\n",
    "        return {'guid': guid,\n",
    "            'context': context,\n",
    "            'question': question,\n",
    "            'answers': answers\n",
    "        }\n",
    "\n",
    "    def __len__(self) -> int:\n",
    "        return len(self._indices)"
   ]
  },
  {
   "cell_type": "code",
   "execution_count": 13,
   "metadata": {
    "colab": {
     "base_uri": "https://localhost:8080/"
    },
    "executionInfo": {
     "elapsed": 1652,
     "status": "ok",
     "timestamp": 1649532185028,
     "user": {
      "displayName": "조현수",
      "userId": "06575509224308139266"
     },
     "user_tz": -540
    },
    "id": "CDu4gwv_ugKW",
    "outputId": "9f4f4a87-cd03-4fea-f8ee-3bbab3179d81"
   },
   "outputs": [
    {
     "name": "stdout",
     "output_type": "stream",
     "text": [
      "Number of Samples: 12037\n",
      "Number of Train Samples: 10834\n",
      "Number of Dev Samples: 1203\n"
     ]
    }
   ],
   "source": [
    "dataset = KoMRC.load('./datasets2/train.json')\n",
    "train_dataset, dev_dataset = KoMRC.split(dataset)\n",
    "print(\"Number of Samples:\", len(dataset))\n",
    "print(\"Number of Train Samples:\", len(train_dataset))\n",
    "print(\"Number of Dev Samples:\", len(dev_dataset))\n",
    "# print(dataset[0])\n",
    "# print(train_dataset[0])\n",
    "# print(dev_dataset[0])"
   ]
  },
  {
   "cell_type": "markdown",
   "metadata": {
    "id": "AaAHVuoEVs32"
   },
   "source": [
    "## Tokenize & Tag Token Positions"
   ]
  },
  {
   "cell_type": "code",
   "execution_count": 14,
   "metadata": {
    "executionInfo": {
     "elapsed": 2,
     "status": "ok",
     "timestamp": 1649532185028,
     "user": {
      "displayName": "조현수",
      "userId": "06575509224308139266"
     },
     "user_tz": -540
    },
    "id": "AluNiOayugGE"
   },
   "outputs": [],
   "source": [
    "class TokenizedKoMRC(KoMRC):\n",
    "    def __init__(self, data, indices: List[Tuple[int, int, int]]) -> None:\n",
    "        super().__init__(data, indices)\n",
    "        self._tokenizer = tokenizer\n",
    "\n",
    "\n",
    "    def _tokenize_with_position(self, sentence: str) -> List[Tuple[str, Tuple[int, int]]]:\n",
    "        position = 0\n",
    "        tokens = []\n",
    "\n",
    "        sentence_tokens = []\n",
    "        for word in sentence.split():\n",
    "            if '[UNK]' in tokenizer.tokenize(word):\n",
    "                sentence_tokens.append(word)\n",
    "            else:\n",
    "                sentence_tokens += tokenizer.tokenize(word)\n",
    "        \n",
    "        for morph in sentence_tokens:\n",
    "            if len(morph) > 2:\n",
    "                if morph[:2] == '##':\n",
    "                    morph = morph[2:]\n",
    "\n",
    "            position = sentence.find(morph, position)\n",
    "            tokens.append((morph, (position, position + len(morph))))\n",
    "            position += len(morph)\n",
    "            \n",
    "        return tokens\n",
    "            \n",
    "\n",
    "    def __getitem__(self, index: int) -> Dict[str, Any]:\n",
    "        sample = super().__getitem__(index)\n",
    "        # sample = {'guid': guid, 'context': context, 'question': question, 'answers': answers}\n",
    "\n",
    "        context, position = zip(*self._tokenize_with_position(sample['context']))\n",
    "        context, position = list(context), list(position)\n",
    "\n",
    "        question = self._tokenizer.tokenize(sample['question'])\n",
    "\n",
    "        if sample['answers'] is not None:\n",
    "            answers = []\n",
    "            for answer in sample['answers']:\n",
    "                for start, (position_start, position_end) in enumerate(position):\n",
    "                    if position_start <= answer['answer_start'] < position_end:\n",
    "                        break\n",
    "                else:\n",
    "                    print(context, answer)\n",
    "                    print(answer['guid'])\n",
    "                    print(answer['answer_start'])\n",
    "                    raise ValueError(\"No mathced start position\")\n",
    "\n",
    "                target = ''.join(answer['text'].split(' '))\n",
    "                source = ''\n",
    "                for end, morph in enumerate(context[start:], start):\n",
    "                    source += morph\n",
    "                    if target in source:\n",
    "                        break\n",
    "                else:\n",
    "                    print(context, answer)\n",
    "                    print(answer['guid'])\n",
    "                    print(answer['answer_start'])\n",
    "                    raise ValueError(\"No Matched end position\")\n",
    "\n",
    "                answers.append({'start': start, 'end': end})\n",
    "                \n",
    "        else:\n",
    "            answers = None\n",
    "        \n",
    "        return {\n",
    "            'guid': sample['guid'],\n",
    "            'context_original': sample['context'],\n",
    "            'context_position': position,\n",
    "            'question_original': sample['question'],\n",
    "            'context': context,\n",
    "            'question': question,\n",
    "            'answers': answers\n",
    "        }"
   ]
  },
  {
   "cell_type": "code",
   "execution_count": 15,
   "metadata": {
    "colab": {
     "base_uri": "https://localhost:8080/"
    },
    "executionInfo": {
     "elapsed": 606,
     "status": "ok",
     "timestamp": 1649532185632,
     "user": {
      "displayName": "조현수",
      "userId": "06575509224308139266"
     },
     "user_tz": -540
    },
    "id": "K3Cu4vU1ugD2",
    "outputId": "0b7c594e-aebd-4782-c069-8b2f150d1ffa"
   },
   "outputs": [
    {
     "name": "stdout",
     "output_type": "stream",
     "text": [
      "Number of Samples: 12037\n",
      "Number of Train Samples: 10834\n",
      "Number of Dev Samples: 1203\n"
     ]
    }
   ],
   "source": [
    "dataset = TokenizedKoMRC.load('./datasets2/train.json')\n",
    "train_dataset, dev_dataset = TokenizedKoMRC.split(dataset)\n",
    "print(\"Number of Samples:\", len(dataset))\n",
    "print(\"Number of Train Samples:\", len(train_dataset))\n",
    "print(\"Number of Dev Samples:\", len(dev_dataset))\n",
    "# print(dataset[0])\n",
    "# print(train_dataset[0])\n",
    "# print(dev_dataset[0])"
   ]
  },
  {
   "cell_type": "code",
   "execution_count": 16,
   "metadata": {
    "colab": {
     "base_uri": "https://localhost:8080/"
    },
    "executionInfo": {
     "elapsed": 4,
     "status": "ok",
     "timestamp": 1649532185633,
     "user": {
      "displayName": "조현수",
      "userId": "06575509224308139266"
     },
     "user_tz": -540
    },
    "id": "5uTUw2GdugA8",
    "outputId": "815870b9-02d7-4ad3-db7e-823a12acf0f6"
   },
   "outputs": [
    {
     "name": "stdout",
     "output_type": "stream",
     "text": [
      "['3', '만', '50', '00', '여', '명']\n"
     ]
    }
   ],
   "source": [
    "sample = dev_dataset[0]\n",
    "print(sample['context'][sample['answers'][0]['start']:sample['answers'][0]['end']+1])"
   ]
  },
  {
   "cell_type": "markdown",
   "metadata": {
    "id": "5NQ6g-qhV_7g"
   },
   "source": [
    "## Input"
   ]
  },
  {
   "cell_type": "code",
   "execution_count": 17,
   "metadata": {
    "executionInfo": {
     "elapsed": 3,
     "status": "ok",
     "timestamp": 1649532185633,
     "user": {
      "displayName": "조현수",
      "userId": "06575509224308139266"
     },
     "user_tz": -540
    },
    "id": "GyN44Vg-uf-Y"
   },
   "outputs": [],
   "source": [
    "class Indexer:\n",
    "    def __init__(self, vocabs: List[str], max_length: int=args.max_length):\n",
    "        self.max_length = max_length\n",
    "        self.vocabs = vocabs\n",
    "\n",
    "    @property\n",
    "    def vocab_size(self):\n",
    "        return len(self.vocabs)\n",
    "    @property\n",
    "    def pad_id(self):\n",
    "        return tokenizer.vocab['[PAD]']\n",
    "    @property\n",
    "    def unk_id(self):\n",
    "        return tokenizer.vocab['[UNK]']\n",
    "    @property\n",
    "    def cls_id(self):\n",
    "        return tokenizer.vocab['[CLS]']\n",
    "    @property\n",
    "    def sep_id(self):\n",
    "        return tokenizer.vocab['[SEP]']\n",
    "\n",
    "\n",
    "    def sample2ids(self, sample: Dict[str, Any],) -> Dict[str, Any]:\n",
    "        context = [tokenizer.convert_tokens_to_ids(token) for token in sample['context']]\n",
    "        question = [tokenizer.convert_tokens_to_ids(token) for token in sample['question']]\n",
    "\n",
    "        context = context[:self.max_length-len(question)-3]             # Truncate context\n",
    "        \n",
    "        input_ids = [self.cls_id] + question + [self.sep_id] + context + [self.sep_id]\n",
    "        token_type_ids = [0] * (len(question) + 1) + [1] * (len(context) + 2)\n",
    "\n",
    "        if sample['answers'] is not None:\n",
    "            answer = sample['answers'][0]\n",
    "            start = min(len(question) + 2 + answer['start'], self.max_length - 1)\n",
    "            end = min(len(question) + 2 + answer['end'], self.max_length - 1)\n",
    "        else:\n",
    "            start = None\n",
    "            end = None\n",
    "\n",
    "        return {\n",
    "            'guid': sample['guid'],\n",
    "            'context': sample['context_original'],\n",
    "            'question': sample['question_original'],\n",
    "            'position': sample['context_position'],\n",
    "            'input_ids': input_ids,\n",
    "            'token_type_ids': token_type_ids,\n",
    "            'start': start,\n",
    "            'end': end\n",
    "        }"
   ]
  },
  {
   "cell_type": "code",
   "execution_count": 18,
   "metadata": {
    "colab": {
     "base_uri": "https://localhost:8080/"
    },
    "executionInfo": {
     "elapsed": 3,
     "status": "ok",
     "timestamp": 1649532185633,
     "user": {
      "displayName": "조현수",
      "userId": "06575509224308139266"
     },
     "user_tz": -540
    },
    "id": "grrjgBHWuf8H",
    "outputId": "edd0759e-f473-4dd9-b9db-3f516f2be6c8"
   },
   "outputs": [],
   "source": [
    "indexer = Indexer(list(tokenizer.vocab.keys()))\n",
    "# print(indexer.sample2ids(dev_dataset[0]))"
   ]
  },
  {
   "cell_type": "markdown",
   "metadata": {
    "id": "6gLlDcdhWMVy"
   },
   "source": [
    "## Attention Mask"
   ]
  },
  {
   "cell_type": "code",
   "execution_count": 19,
   "metadata": {
    "executionInfo": {
     "elapsed": 2,
     "status": "ok",
     "timestamp": 1649532185633,
     "user": {
      "displayName": "조현수",
      "userId": "06575509224308139266"
     },
     "user_tz": -540
    },
    "id": "R2nGyyJLuf54"
   },
   "outputs": [],
   "source": [
    "class IndexerWrappedDataset:\n",
    "    def __init__(self, dataset: TokenizedKoMRC, indexer: Indexer) -> None:\n",
    "        self._dataset = dataset\n",
    "        self._indexer = indexer\n",
    "\n",
    "    def __len__(self) -> int:\n",
    "        return len(self._dataset)\n",
    "    \n",
    "    def __getitem__(self, index: int) -> Dict[str, Any]:\n",
    "        sample = self._indexer.sample2ids(self._dataset[index])\n",
    "        sample['attention_mask'] = [1] * len(sample['input_ids'])\n",
    "\n",
    "        return sample"
   ]
  },
  {
   "cell_type": "code",
   "execution_count": 20,
   "metadata": {
    "colab": {
     "base_uri": "https://localhost:8080/"
    },
    "executionInfo": {
     "elapsed": 430,
     "status": "ok",
     "timestamp": 1649532186061,
     "user": {
      "displayName": "조현수",
      "userId": "06575509224308139266"
     },
     "user_tz": -540
    },
    "id": "g5ee_MDquf3p",
    "outputId": "1f8ce936-5665-4d6f-864c-d03db8cbe338"
   },
   "outputs": [],
   "source": [
    "indexed_train_dataset = IndexerWrappedDataset(train_dataset, indexer)\n",
    "indexed_dev_dataset = IndexerWrappedDataset(dev_dataset, indexer)\n",
    "\n",
    "sample = indexed_dev_dataset[0]\n",
    "# print('input_ids', sample['input_ids'])\n",
    "# print('attention_mask', sample['attention_mask'])\n",
    "# print('token_type_ids', sample['token_type_ids'])\n",
    "# print('start', sample['start'])\n",
    "# print('end', sample['end'])"
   ]
  },
  {
   "cell_type": "markdown",
   "metadata": {
    "id": "BrnFWwNFWydX"
   },
   "source": [
    "## Collate"
   ]
  },
  {
   "cell_type": "code",
   "execution_count": 21,
   "metadata": {
    "executionInfo": {
     "elapsed": 3,
     "status": "ok",
     "timestamp": 1649532186061,
     "user": {
      "displayName": "조현수",
      "userId": "06575509224308139266"
     },
     "user_tz": -540
    },
    "id": "Pp4TTU5Oufy-"
   },
   "outputs": [],
   "source": [
    "class Collator:\n",
    "    def __init__(self, indexer: Indexer) -> None:\n",
    "        self._indexer = indexer\n",
    "\n",
    "\n",
    "    def __call__(self, samples: List[Dict[str, Any]]) -> Dict[str, torch.Tensor]:\n",
    "        samples = {key: [sample[key] for sample in samples] for key in samples[0]}\n",
    "\n",
    "        for key in 'start', 'end':\n",
    "            if samples[key][0] is None:\n",
    "                samples[key] = None\n",
    "            else:\n",
    "                samples[key] = torch.tensor(samples[key], dtype=torch.long)\n",
    "        \n",
    "        for key in 'input_ids', 'attention_mask', 'token_type_ids':\n",
    "            samples[key] = pad_sequence([torch.tensor(sample, dtype=torch.long) for sample in samples[key]],\n",
    "                                        batch_first=True,\n",
    "                                        padding_value=self._indexer.pad_id)\n",
    "\n",
    "        return samples"
   ]
  },
  {
   "cell_type": "markdown",
   "metadata": {
    "id": "uNj_C_6sSwpE"
   },
   "source": [
    "## Data Loader"
   ]
  },
  {
   "cell_type": "code",
   "execution_count": 22,
   "metadata": {
    "executionInfo": {
     "elapsed": 2,
     "status": "ok",
     "timestamp": 1649532186061,
     "user": {
      "displayName": "조현수",
      "userId": "06575509224308139266"
     },
     "user_tz": -540
    },
    "id": "SlVyogmMufwZ"
   },
   "outputs": [],
   "source": [
    "collator = Collator(indexer)\n",
    "train_loader = DataLoader(indexed_train_dataset,\n",
    "                          batch_size = args.batch_size.train // args.accumulate,\n",
    "                          shuffle = True,\n",
    "                          collate_fn = collator,\n",
    "                          num_workers = 2)\n",
    "\n",
    "dev_loader = DataLoader(indexed_dev_dataset,\n",
    "                        batch_size = args.batch_size.eval,\n",
    "                        shuffle = False,\n",
    "                        collate_fn = collator,\n",
    "                        num_workers = 2)"
   ]
  },
  {
   "cell_type": "code",
   "execution_count": 23,
   "metadata": {
    "colab": {
     "base_uri": "https://localhost:8080/"
    },
    "executionInfo": {
     "elapsed": 502,
     "status": "ok",
     "timestamp": 1649532186561,
     "user": {
      "displayName": "조현수",
      "userId": "06575509224308139266"
     },
     "user_tz": -540
    },
    "id": "3lcvlUltufuC",
    "outputId": "8bdf541f-6e03-41c0-fe6c-a6fdfe080842"
   },
   "outputs": [
    {
     "name": "stdout",
     "output_type": "stream",
     "text": [
      "huggingface/tokenizers: The current process just got forked, after parallelism has already been used. Disabling parallelism to avoid deadlocks...\n",
      "To disable this warning, you can either:\n",
      "\t- Avoid using `tokenizers` before the fork if possible\n",
      "\t- Explicitly set the environment variable TOKENIZERS_PARALLELISM=(true | false)\n",
      "huggingface/tokenizers: The current process just got forked, after parallelism has already been used. Disabling parallelism to avoid deadlocks...\n",
      "To disable this warning, you can either:\n",
      "\t- Avoid using `tokenizers` before the fork if possible\n",
      "\t- Explicitly set the environment variable TOKENIZERS_PARALLELISM=(true | false)\n",
      "tensor([[    2,  6882, 13607,  ...,     0,     0,     0],\n",
      "        [    2,  7641,  4811,  ...,     0,     0,     0],\n",
      "        [    2,  8311,  8796,  ...,     0,     0,     0],\n",
      "        ...,\n",
      "        [    2,  8022,  4644,  ...,  3904,  7262,     3],\n",
      "        [    2, 17169,  4583,  ...,     0,     0,     0],\n",
      "        [    2,  8443,  7035,  ...,     0,     0,     0]])\n",
      "torch.Size([16, 1038])\n",
      "['guid', 'context', 'question', 'position', 'input_ids', 'token_type_ids', 'start', 'end', 'attention_mask']\n"
     ]
    }
   ],
   "source": [
    "batch = next(iter(dev_loader))\n",
    "print(batch['input_ids'])\n",
    "print(batch['input_ids'].shape)\n",
    "print(list(batch.keys()))"
   ]
  },
  {
   "cell_type": "markdown",
   "metadata": {
    "id": "m8bJH_DNRfVm"
   },
   "source": [
    "# Train"
   ]
  },
  {
   "cell_type": "markdown",
   "metadata": {
    "id": "eAfQOTuPeuWN",
    "toc-hr-collapsed": true
   },
   "source": [
    "## Empty Cuda Cache"
   ]
  },
  {
   "cell_type": "code",
   "execution_count": 24,
   "metadata": {
    "executionInfo": {
     "elapsed": 5,
     "status": "ok",
     "timestamp": 1649532186562,
     "user": {
      "displayName": "조현수",
      "userId": "06575509224308139266"
     },
     "user_tz": -540
    },
    "id": "6WREvLj-AARp"
   },
   "outputs": [],
   "source": [
    "import gc\n",
    "gc.collect()\n",
    "torch.cuda.empty_cache()"
   ]
  },
  {
   "cell_type": "code",
   "execution_count": 25,
   "metadata": {},
   "outputs": [],
   "source": [
    "os.environ[\"TOKENIZERS_PARALLELISM\"] = \"false\""
   ]
  },
  {
   "cell_type": "markdown",
   "metadata": {
    "id": "8tkYfToDenKV",
    "tags": [],
    "toc-hr-collapsed": true
   },
   "source": [
    "## Train"
   ]
  },
  {
   "cell_type": "code",
   "execution_count": 26,
   "metadata": {
    "colab": {
     "base_uri": "https://localhost:8080/"
    },
    "id": "Rfm5X-bEufpW",
    "outputId": "b68c37ae-18c2-412e-8adb-37f3a9ecd227",
    "tags": []
   },
   "outputs": [
    {
     "name": "stdout",
     "output_type": "stream",
     "text": [
      "Epoch 0 ===============================================================================================================\n"
     ]
    },
    {
     "data": {
      "application/vnd.jupyter.widget-view+json": {
       "model_id": "01c2ab757a724e42be4a79d288c7b4c8",
       "version_major": 2,
       "version_minor": 0
      },
      "text/plain": [
       "HBox(children=(HTML(value='Train'), FloatProgress(value=0.0, max=2709.0), HTML(value='')))"
      ]
     },
     "metadata": {},
     "output_type": "display_data"
    },
    {
     "name": "stderr",
     "output_type": "stream",
     "text": [
      "Attention type 'block_sparse' is not possible if sequence_length: 658 <= num global tokens: 2 * config.block_size + min. num sliding tokens: 3 * config.block_size + config.num_random_blocks * config.block_size + additional buffer: config.num_random_blocks * config.block_size = 704 with config.block_size = 64, config.num_random_blocks = 3. Changing attention type to 'original_full'...\n"
     ]
    },
    {
     "name": "stdout",
     "output_type": "stream",
     "text": [
      "model saved!!\n",
      "valid_loss: 12.203485689665142\n",
      "model saved!!\n",
      "valid_loss: 11.061726243872391\n",
      "model saved!!\n",
      "valid_loss: 10.115518783268175\n",
      "model saved!!\n",
      "valid_loss: 9.464702957554868\n",
      "model saved!!\n",
      "valid_loss: 9.067599591455961\n",
      "model saved!!\n",
      "valid_loss: 8.873669649425306\n",
      "model saved!!\n",
      "valid_loss: 8.81695785020527\n",
      "model saved!!\n",
      "valid_loss: 8.653418892308286\n",
      "model saved!!\n",
      "valid_loss: 8.452049299290305\n",
      "model saved!!\n",
      "valid_loss: 8.282918403023167\n",
      "model saved!!\n",
      "valid_loss: 8.114238262176514\n",
      "model saved!!\n",
      "valid_loss: 7.842631590993781\n",
      "model saved!!\n",
      "valid_loss: 7.473345405177066\n",
      "model saved!!\n",
      "valid_loss: 7.06651527003238\n",
      "model saved!!\n",
      "valid_loss: 6.6626502840142505\n",
      "model saved!!\n",
      "valid_loss: 6.3321145271000105\n",
      "model saved!!\n",
      "valid_loss: 6.002478605822513\n",
      "model saved!!\n",
      "valid_loss: 5.702788873722679\n",
      "model saved!!\n",
      "valid_loss: 5.407888139549055\n",
      "model saved!!\n",
      "valid_loss: 5.211233380593751\n",
      "model saved!!\n",
      "valid_loss: 5.058772328652833\n",
      "model saved!!\n",
      "valid_loss: 4.887976028417286\n",
      "model saved!!\n",
      "valid_loss: 4.705529360394729\n",
      "model saved!!\n",
      "valid_loss: 4.553754539866197\n",
      "model saved!!\n",
      "valid_loss: 4.415505882940795\n",
      "model saved!!\n",
      "valid_loss: 4.307069285919792\n",
      "model saved!!\n",
      "valid_loss: 4.2491163485928585\n",
      "model saved!!\n",
      "valid_loss: 4.181353089056517\n",
      "model saved!!\n",
      "valid_loss: 4.122282784236105\n",
      "model saved!!\n",
      "valid_loss: 4.031842357233951\n",
      "model saved!!\n",
      "valid_loss: 3.9010644429608394\n",
      "model saved!!\n",
      "valid_loss: 3.7666281775424353\n",
      "model saved!!\n",
      "valid_loss: 3.672516992217616\n",
      "model saved!!\n",
      "valid_loss: 3.6156027850351835\n",
      "model saved!!\n",
      "valid_loss: 3.581704440869783\n",
      "model saved!!\n",
      "valid_loss: 3.542678183630893\n",
      "model saved!!\n",
      "valid_loss: 3.4808216596904553\n",
      "model saved!!\n",
      "valid_loss: 3.4212502241134644\n",
      "model saved!!\n",
      "valid_loss: 3.3583397081023767\n",
      "model saved!!\n",
      "valid_loss: 3.289279308758284\n",
      "model saved!!\n",
      "valid_loss: 3.2377840202105674\n",
      "model saved!!\n",
      "valid_loss: 3.225763250338404\n",
      "\n",
      "Train Loss: 3.465\n",
      "Valid Loss: 3.226\n",
      "- - - - - - - - - - - - - - - - - - - - - - - - - - - - - - - - - - - - - - - - - - -\n",
      "Epoch 1 ===============================================================================================================\n"
     ]
    },
    {
     "data": {
      "application/vnd.jupyter.widget-view+json": {
       "model_id": "db630ec6007b422391250c535091cc52",
       "version_major": 2,
       "version_minor": 0
      },
      "text/plain": [
       "HBox(children=(HTML(value='Train'), FloatProgress(value=0.0, max=2709.0), HTML(value='')))"
      ]
     },
     "metadata": {},
     "output_type": "display_data"
    },
    {
     "name": "stdout",
     "output_type": "stream",
     "text": [
      "model saved!!\n",
      "valid_loss: 3.2172157607580485\n",
      "model saved!!\n",
      "valid_loss: 3.1870999822491095\n",
      "model saved!!\n",
      "valid_loss: 3.1763404215637006\n",
      "model saved!!\n",
      "valid_loss: 3.1547224254984605\n",
      "model saved!!\n",
      "valid_loss: 3.124866396188736\n",
      "model saved!!\n",
      "valid_loss: 3.0791960656642914\n",
      "model saved!!\n",
      "valid_loss: 3.0155253473081087\n",
      "model saved!!\n",
      "valid_loss: 2.965442086520948\n",
      "model saved!!\n",
      "valid_loss: 2.9534293868039785\n",
      "model saved!!\n",
      "valid_loss: 2.9505601384137807\n",
      "model saved!!\n",
      "valid_loss: 2.9349668465162577\n",
      "model saved!!\n",
      "valid_loss: 2.8981114171053233\n",
      "model saved!!\n",
      "valid_loss: 2.848263704463055\n",
      "model saved!!\n",
      "valid_loss: 2.826626412178341\n",
      "model saved!!\n",
      "valid_loss: 2.8078490072175075\n",
      "model saved!!\n",
      "valid_loss: 2.8006795676130998\n",
      "model saved!!\n",
      "valid_loss: 2.7892385642779502\n",
      "model saved!!\n",
      "valid_loss: 2.7829694167563788\n",
      "model saved!!\n",
      "valid_loss: 2.7643002240281356\n",
      "model saved!!\n",
      "valid_loss: 2.748023183722245\n",
      "model saved!!\n",
      "valid_loss: 2.731843945227171\n",
      "model saved!!\n",
      "valid_loss: 2.722629445163827\n",
      "model saved!!\n",
      "valid_loss: 2.710363654713882\n",
      "model saved!!\n",
      "valid_loss: 2.6742268769364608\n",
      "model saved!!\n",
      "valid_loss: 2.622378060692235\n",
      "model saved!!\n",
      "valid_loss: 2.5728582849628046\n",
      "model saved!!\n",
      "valid_loss: 2.547921608937414\n",
      "model saved!!\n",
      "valid_loss: 2.531151605279822\n",
      "model saved!!\n",
      "valid_loss: 2.530396274830166\n",
      "model saved!!\n",
      "valid_loss: 2.5253246442267767\n",
      "model saved!!\n",
      "valid_loss: 2.5185679840414146\n",
      "\n",
      "Train Loss: 2.583\n",
      "Valid Loss: 2.519\n",
      "- - - - - - - - - - - - - - - - - - - - - - - - - - - - - - - - - - - - - - - - - - -\n",
      "Epoch 2 ===============================================================================================================\n"
     ]
    },
    {
     "data": {
      "application/vnd.jupyter.widget-view+json": {
       "model_id": "887924e7c89e40aa90cf69f3b0bbd361",
       "version_major": 2,
       "version_minor": 0
      },
      "text/plain": [
       "HBox(children=(HTML(value='Train'), FloatProgress(value=0.0, max=2709.0), HTML(value='')))"
      ]
     },
     "metadata": {},
     "output_type": "display_data"
    },
    {
     "name": "stdout",
     "output_type": "stream",
     "text": [
      "model saved!!\n",
      "valid_loss: 2.499104733529844\n",
      "model saved!!\n",
      "valid_loss: 2.489091844935166\n",
      "\n",
      "Train Loss: 1.444\n",
      "Valid Loss: 2.518\n",
      "- - - - - - - - - - - - - - - - - - - - - - - - - - - - - - - - - - - - - - - - - - -\n",
      "Epoch 3 ===============================================================================================================\n"
     ]
    },
    {
     "data": {
      "application/vnd.jupyter.widget-view+json": {
       "model_id": "2486c7ae68724b9fb31d9b470bab3512",
       "version_major": 2,
       "version_minor": 0
      },
      "text/plain": [
       "HBox(children=(HTML(value='Train'), FloatProgress(value=0.0, max=2709.0), HTML(value='')))"
      ]
     },
     "metadata": {},
     "output_type": "display_data"
    },
    {
     "name": "stdout",
     "output_type": "stream",
     "text": [
      "\n",
      "Train Loss: 0.873\n",
      "Valid Loss: 2.820\n",
      "- - - - - - - - - - - - - - - - - - - - - - - - - - - - - - - - - - - - - - - - - - -\n",
      "Epoch 4 ===============================================================================================================\n"
     ]
    },
    {
     "data": {
      "application/vnd.jupyter.widget-view+json": {
       "model_id": "8c2980a3a4c843e1908ea1ef310c4cae",
       "version_major": 2,
       "version_minor": 0
      },
      "text/plain": [
       "HBox(children=(HTML(value='Train'), FloatProgress(value=0.0, max=2709.0), HTML(value='')))"
      ]
     },
     "metadata": {},
     "output_type": "display_data"
    },
    {
     "name": "stdout",
     "output_type": "stream",
     "text": [
      "\n",
      "Train Loss: 0.706\n",
      "Valid Loss: 3.007\n",
      "- - - - - - - - - - - - - - - - - - - - - - - - - - - - - - - - - - - - - - - - - - -\n",
      "Epoch 5 ===============================================================================================================\n"
     ]
    },
    {
     "data": {
      "application/vnd.jupyter.widget-view+json": {
       "model_id": "3176aedf39fc4ee287f32e63b16c2fa2",
       "version_major": 2,
       "version_minor": 0
      },
      "text/plain": [
       "HBox(children=(HTML(value='Train'), FloatProgress(value=0.0, max=2709.0), HTML(value='')))"
      ]
     },
     "metadata": {},
     "output_type": "display_data"
    },
    {
     "name": "stdout",
     "output_type": "stream",
     "text": [
      "\n",
      "Train Loss: 0.464\n",
      "Valid Loss: 3.281\n",
      "- - - - - - - - - - - - - - - - - - - - - - - - - - - - - - - - - - - - - - - - - - -\n",
      "Epoch 6 ===============================================================================================================\n"
     ]
    },
    {
     "data": {
      "application/vnd.jupyter.widget-view+json": {
       "model_id": "c695f6853ae343fd8c6b3e69c8dab4a3",
       "version_major": 2,
       "version_minor": 0
      },
      "text/plain": [
       "HBox(children=(HTML(value='Train'), FloatProgress(value=0.0, max=2709.0), HTML(value='')))"
      ]
     },
     "metadata": {},
     "output_type": "display_data"
    },
    {
     "name": "stderr",
     "output_type": "stream",
     "text": [
      "wandb: Network error (ReadTimeout), entering retry loop.\n"
     ]
    },
    {
     "name": "stdout",
     "output_type": "stream",
     "text": [
      "\n",
      "Train Loss: 0.410\n",
      "Valid Loss: 3.699\n",
      "- - - - - - - - - - - - - - - - - - - - - - - - - - - - - - - - - - - - - - - - - - -\n",
      "Epoch 7 ===============================================================================================================\n"
     ]
    },
    {
     "data": {
      "application/vnd.jupyter.widget-view+json": {
       "model_id": "94c588de14684cddbffaa8c55215d319",
       "version_major": 2,
       "version_minor": 0
      },
      "text/plain": [
       "HBox(children=(HTML(value='Train'), FloatProgress(value=0.0, max=2709.0), HTML(value='')))"
      ]
     },
     "metadata": {},
     "output_type": "display_data"
    },
    {
     "name": "stdout",
     "output_type": "stream",
     "text": [
      "\n",
      "Train Loss: 0.265\n",
      "Valid Loss: 4.003\n",
      "- - - - - - - - - - - - - - - - - - - - - - - - - - - - - - - - - - - - - - - - - - -\n",
      "Epoch 8 ===============================================================================================================\n"
     ]
    },
    {
     "data": {
      "application/vnd.jupyter.widget-view+json": {
       "model_id": "a4609aaf8ba94c148e8a39798798037e",
       "version_major": 2,
       "version_minor": 0
      },
      "text/plain": [
       "HBox(children=(HTML(value='Train'), FloatProgress(value=0.0, max=2709.0), HTML(value='')))"
      ]
     },
     "metadata": {},
     "output_type": "display_data"
    },
    {
     "name": "stdout",
     "output_type": "stream",
     "text": [
      "\n",
      "Train Loss: 0.312\n",
      "Valid Loss: 4.214\n",
      "- - - - - - - - - - - - - - - - - - - - - - - - - - - - - - - - - - - - - - - - - - -\n",
      "Epoch 9 ===============================================================================================================\n"
     ]
    },
    {
     "data": {
      "application/vnd.jupyter.widget-view+json": {
       "model_id": "264888b851c74ead945ff0028faea752",
       "version_major": 2,
       "version_minor": 0
      },
      "text/plain": [
       "HBox(children=(HTML(value='Train'), FloatProgress(value=0.0, max=2709.0), HTML(value='')))"
      ]
     },
     "metadata": {},
     "output_type": "display_data"
    },
    {
     "name": "stdout",
     "output_type": "stream",
     "text": [
      "\n",
      "Train Loss: 0.190\n",
      "Valid Loss: 3.810\n",
      "- - - - - - - - - - - - - - - - - - - - - - - - - - - - - - - - - - - - - - - - - - -\n"
     ]
    }
   ],
   "source": [
    "train_losses = []\n",
    "dev_losses = []\n",
    "\n",
    "train_loss = []\n",
    "dev_loss = []\n",
    "\n",
    "loss_accumulate = 0.\n",
    "\n",
    "best_model = [-1, int(1e9)]\n",
    "\n",
    "for epoch in range(args.epochs):\n",
    "    print(\"Epoch\", epoch, '===============================================================================================================')\n",
    "\n",
    "    # Train    \n",
    "    progress_bar_train = tqdm(train_loader, desc='Train')\n",
    "    for i, batch in enumerate(progress_bar_train, 1):\n",
    "        del batch['guid'], batch['context'], batch['question'], batch['position']\n",
    "        batch = {key: value.cuda() for key, value in batch.items()}\n",
    "        \n",
    "        start = batch.pop('start')\n",
    "        end = batch.pop('end')\n",
    "        \n",
    "        output = model(**batch)\n",
    "\n",
    "        start_logits = output.start_logits\n",
    "        end_logits = output.end_logits\n",
    "        \n",
    "        loss = (F.cross_entropy(start_logits, start) + F.cross_entropy(end_logits, end)) / args.accumulate\n",
    "        loss.backward()\n",
    "\n",
    "        loss_accumulate += loss.item()\n",
    "\n",
    "        del batch, start, end, start_logits, end_logits, loss\n",
    "        \n",
    "        if i % args.accumulate == 0:\n",
    "            # clip_grad_norm_(model.parameters(), max_norm=1.)\n",
    "            optimizer.step()\n",
    "            optimizer.zero_grad(set_to_none=False)\n",
    "\n",
    "            train_loss.append(loss_accumulate)\n",
    "            progress_bar_train.set_description(f\"Train - Loss: {loss_accumulate:.3f}\")\n",
    "            loss_accumulate = 0.\n",
    "        else:\n",
    "            continue\n",
    "\n",
    "        if i % int(len(train_loader) / (args.accumulate * 25)) == 0:\n",
    "            # Evaluation\n",
    "            for batch in dev_loader:\n",
    "                del batch['guid'], batch['context'], batch['question'], batch['position']\n",
    "                batch = {key: value.cuda() for key, value in batch.items()}\n",
    "\n",
    "                start = batch.pop('start')\n",
    "                end = batch.pop('end')\n",
    "                \n",
    "                model.eval()\n",
    "                with torch.no_grad():\n",
    "                    output = model(**batch)\n",
    "                \n",
    "                    start_logits = output.start_logits\n",
    "                    end_logits = output.end_logits\n",
    "                model.train()\n",
    "\n",
    "                loss = F.cross_entropy(start_logits, start) + F.cross_entropy(end_logits, end)\n",
    "\n",
    "                dev_loss.append(loss.item())\n",
    "\n",
    "                del batch, start, end, start_logits, end_logits, loss\n",
    "\n",
    "            train_losses.append(mean(train_loss))\n",
    "            dev_losses.append(mean(dev_loss))\n",
    "            train_loss = []\n",
    "            dev_loss = []\n",
    "\n",
    "            \n",
    "            if dev_losses[-1] <= best_model[1]:\n",
    "                best_model = (epoch, dev_losses[-1])\n",
    "                model.save_pretrained(f'models/{args.NAME}_{epoch}')\n",
    "                # print(f'model saved!!\\nvalid_loss: {dev_losses[-1]}')\n",
    "                \n",
    "            wandb.log({\"train_loss\": train_losses[-1],\n",
    "                       \"valid_loss\": dev_losses[-1]})\n",
    "            \n",
    "\n",
    "    print(f\"Train Loss: {train_losses[-1]:.3f}\")\n",
    "    print(f\"Valid Loss: {dev_losses[-1]:.3f}\")\n",
    "    print('- - - - - - - - - - - - - - - - - - - - - - - - - - - - - - - - - - - - - - - - - - -')\n"
   ]
  },
  {
   "cell_type": "markdown",
   "metadata": {
    "id": "5NeU3ogjS2LZ",
    "tags": []
   },
   "source": [
    "## Visualize Training"
   ]
  },
  {
   "cell_type": "code",
   "execution_count": 27,
   "metadata": {
    "id": "3nDxYe7KufnH"
   },
   "outputs": [
    {
     "data": {
      "image/png": "[encoded data removed]",
      "text/plain": [
       "<Figure size 432x288 with 1 Axes>"
      ]
     },
     "metadata": {
      "needs_background": "light"
     },
     "output_type": "display_data"
    }
   ],
   "source": [
    "plt.plot(train_losses, label=\"Train Loss\")\n",
    "plt.plot(dev_losses, label=\"Dev Loss\")\n",
    "plt.xlabel(\"Step\")\n",
    "plt.ylabel(\"Loss\")\n",
    "plt.legend()\n",
    "plt.show()"
   ]
  },
  {
   "cell_type": "markdown",
   "metadata": {
    "id": "wJKrztCmXRBB"
   },
   "source": [
    "# Test"
   ]
  },
  {
   "cell_type": "markdown",
   "metadata": {
    "id": "r4vjm5TrYP-S"
   },
   "source": [
    "## Datasets"
   ]
  },
  {
   "cell_type": "code",
   "execution_count": 28,
   "metadata": {
    "id": "5f9hR0qsu9Ap"
   },
   "outputs": [
    {
     "name": "stdout",
     "output_type": "stream",
     "text": [
      "Number of Test Samples 4008\n"
     ]
    }
   ],
   "source": [
    "test_dataset = TokenizedKoMRC.load('./datasets2/test.json')\n",
    "indexer_test = Indexer(list(tokenizer.vocab.keys()))\n",
    "indexed_test_dataset = IndexerWrappedDataset(test_dataset, indexer_test)\n",
    "print(\"Number of Test Samples\", len(test_dataset))\n",
    "# print(test_dataset[0])"
   ]
  },
  {
   "cell_type": "markdown",
   "metadata": {
    "id": "y8js2FfYYJR7"
   },
   "source": [
    "## Model"
   ]
  },
  {
   "cell_type": "code",
   "execution_count": 37,
   "metadata": {},
   "outputs": [
    {
     "data": {
      "text/plain": [
       "2"
      ]
     },
     "execution_count": 37,
     "metadata": {},
     "output_type": "execute_result"
    },
    {
     "name": "stderr",
     "output_type": "stream",
     "text": [
      "Exception in thread NetStatThr:\n",
      "Traceback (most recent call last):\n",
      "  File \"/opt/conda/lib/python3.8/threading.py\", line 932, in _bootstrap_inner\n",
      "    self.run()\n",
      "  File \"/opt/conda/lib/python3.8/threading.py\", line 870, in run\n",
      "    self._target(*self._args, **self._kwargs)\n",
      "  File \"/opt/conda/lib/python3.8/site-packages/wandb/sdk/wandb_run.py\", line 152, in check_network_status\n",
      "    status_response = self._interface.communicate_network_status()\n",
      "  File \"/opt/conda/lib/python3.8/site-packages/wandb/sdk/interface/interface.py\", line 125, in communicate_network_status\n",
      "    resp = self._communicate_network_status(status)\n",
      "  File \"/opt/conda/lib/python3.8/site-packages/wandb/sdk/interface/interface_shared.py\", line 404, in _communicate_network_status\n",
      "    resp = self._communicate(req, local=True)\n",
      "  File \"/opt/conda/lib/python3.8/site-packages/wandb/sdk/interface/interface_shared.py\", line 225, in _communicate\n",
      "    return self._communicate_async(rec, local=local).get(timeout=timeout)\n",
      "  File \"/opt/conda/lib/python3.8/site-packages/wandb/sdk/interface/interface_shared.py\", line 230, in _communicate_async\n",
      "    raise Exception(\"The wandb backend process has shutdown\")\n",
      "Exception: The wandb backend process has shutdown\n"
     ]
    }
   ],
   "source": [
    "best_model[0]"
   ]
  },
  {
   "cell_type": "code",
   "execution_count": 29,
   "metadata": {
    "id": "nESvW3pKufkv"
   },
   "outputs": [],
   "source": [
    "model = AutoModelForQuestionAnswering.from_pretrained(f'models/{args.NAME}_{best_model[0]}')\n",
    "model.cuda();\n",
    "# summary(model, (args.batch_size.train//args.accumulate, args.max_length), dtypes=['torch.IntTensor'], device='cpu')"
   ]
  },
  {
   "cell_type": "code",
   "execution_count": 30,
   "metadata": {
    "id": "nbM5uvjDufiJ"
   },
   "outputs": [
    {
     "name": "stderr",
     "output_type": "stream",
     "text": [
      "Attention type 'block_sparse' is not possible if sequence_length: 483 <= num global tokens: 2 * config.block_size + min. num sliding tokens: 3 * config.block_size + config.num_random_blocks * config.block_size + additional buffer: config.num_random_blocks * config.block_size = 704 with config.block_size = 64, config.num_random_blocks = 3. Changing attention type to 'original_full'...\n"
     ]
    },
    {
     "name": "stdout",
     "output_type": "stream",
     "text": [
      "------1------\n",
      "Context: 1조3000억원에 달하는 사기성 기업어음(CP)을 발행해 투자자들에게 손해를 끼친 혐의 등으로 기소된 현재현 동양그룹 회장(65·사진)에게 징역 12년형이 선고됐다. 이는 역대 형사재판에 넘겨진 재벌 총수 중 두 번째로 무거운 형이다.서울중앙지법 형사합의25부(부장판사 위현석)는 17일 오후 열린 현 회장에 대한 선고 공판에서 “피해자가 4만명에 달하고 피해 금액도 유례를 찾아보기 힘든 대규모 기업범죄로 엄중한 책임을 묻지 않을 수 없다”며 이같이 선고했다. 함께 기소된 정진석 전 동양증권 사장은 징역 5년을, 김철 전 동양네트웍스 대표와 이상화 전 동양인터내셔널 대표는 각각 징역 4년과 3년6월을 선고받았다. 검찰은 앞서 현 회장에게 징역 15년형을 구형했다.재판부는 현 회장에게 적용된 1조2985억원의 사기성 CP 등 발행 혐의와 141억원대 횡령 혐의를 유죄로 판단했다. 재판부는 “피고인들은 CP 발행 당시 자력으로 만기상환하는 것은 불가능하다는 점을 알고 있었다”며 “현 회장은 그룹의 지배구조에 집착한 나머지 일반투자자를 상대로 기망적 수단과 방법을 동원해 CP와 회사채를 발행했다”고 지적했다. 이어 “이로 인해 경영과 아무런 관계가 없는 다수의 피해자가 막대한 경제적·정신적 피해를 입었다”며 “범행을 부인하며 반성하지 않고, 피해 회복을 위한 노력도 하지 않아 중형을 선고하지 않을 수 없다”고 말했다. 다만 시세조종 혐의와 6000억원대 배임 혐의에 대해서는 일부 유죄로, 회계 부정과 허위 재무제표 공시 혐의는 무죄로 판단했다.현 회장이 받은 징역 12년형은 역대 형사재판에 넘겨진 재벌 총수 중 두 번째로 높은 형이다. 최고형은 1997년 한보사태 때 정태수 전 한보그룹 회장이 받은 징역 15년형이다.\n",
      "Question: 재벌총수 중 지금까지 가장 높은 형량을 받은 사람의 이름은?\n",
      "Answer: 정태수\n",
      "------2------\n",
      "Context: 제닉스 스튜디오(대표 이일희)는 블록체인 기반 IoT 플랫폼 ‘젠서(xensor)’가 베트남과 인도네시아에 상표권 출원이 완료됐다고 밝혔다. IoT 플랫폼 젠서는 이미 한국 테헤란로와 상암, 을지로의 대형 건물 68개를 관리하고 있으며, 최근에는 글로벌 IT업체와 적극 협력해 ‘베트남’과 ‘인도네시아’에 IoT 통신망 공급을 시작했다. 젠서는 최근 베트남에 이어 인도네시아에서 상표권 출원 절차를 완료했고, 태국 등 젠서가 진출해 있는 모든 국가에서 지적 재산권을 확보해 나가는 중이다. IoT 플랫폼 ‘젠서(xensor)’는 번거로운 관리포인트들을 자동화하여 데이터를 축적하고 거래할 수 있으며, 저렴한 비용으로 IOT(Internet Of Things) 통신망을 구축할 수 있는 블록체인 기반 IoT 플랫폼이다. 블록체인 기반 IoT 플랫폼 젠서(xensor)는 건물 설비에 설치되는 센서(sensor)와 수집된 데이터들을 취합하고 통신을 하는 게이트웨이(gateway)로 구성된다. 센서(Sensor)는 온도와 습도 등으로 측정을 할 수 있고, 화재·누수·정전·기계고장에 대한 예방 정보를 전송 해준다. 특히 기존에는 센서가 불이 난 뒤에만 확인할 수 있었는데, 젠서의 센서는 불이 나기 전 단계에 톨루엔과 같은 가연성 가스를 측정할 수 있다. 불이 나기 전에도 화재 위험을 알릴 수 있는 것이다. 센서(sensor)는 자산 감시, 자산 제어, 통신망 구성, 데이터 마켓 등의 단계로 서비스를 발전시킬 계획이며, 현재 자산 감시, 자산 제어 단계에서도 이미 상당한 성과를 거두고 있다. 게이트웨이(gateway)는 일종의 공유기처럼 센서와 통신을 한다. 최대 반경 15km까지 통신망을 형성해 대형건물 하나당 한 개의 게이트웨이만으로도 충분히 커버리지를 구성할 수 있다. 와이파이나 5G는 전파를 촘촘하게 구성해 대용량 데이터를 짧은 거리에 전송하지만, 젠서 게이트웨이는 전파를 길게 늘여 작은 데이터를 멀리 보내는 방식을 취한다. 2G 수준의 속도까지 구현할 수 있어 텍스트와 간단한 이미지, 저화질 영상까지 전송할 수 있다. 젠서 관계자는 “최근 코로나19로 인해 해외사업에 차질이 있긴 하지만, 코로나19가 어느정도 해결되면 본격적으로 해외 사업을 진행하기 위해 상표권 출원에 나서게 됐다”며 “젠서는 동남아를 중심으로 블록체인 기반 IoT 사업을 본격적으로 추진해 나갈 계획”이라고 밝혔다.\n",
      "Question: 젠서 관계자에 따르면 젠서의 해외사업에 지장을 준 요소는?\n",
      "Answer: 코로나19\n",
      "------3------\n",
      "Context: 란돌포는 부자로 무역을 하기 위해 큰 배에 전재산을 털어 상품을 사서 키프로스 섬으로 간다. 그런데 키프로스 섬에는 자신이 산 것과 같은 물품을 산 배들이 벌써 몇 척이나 와 있어서, 가격 폭락으로 란돌포는 알거지가 될 지경에 이른다. 란돌포는 절망하여 자살할까하다가, 마음을 고쳐먹고 어떻게든 돈을 벌어야겠다고 생각하고, 좋은 장비를 구입하여 터키인 배들을 공격하는 해적질을 시작한다.nn란돌포는 해적질을 해서 돈을 모아서 어느 정도 부유해 지자, 이제 더 이상 욕심을 내지 않고 손을 털고 고향으로 돌아가기로 한다. 그런데 거친 폭풍을 만나 잠시 정박해 있을 때, 란돌포의 재물을 탐낸 제노바인 선단이 해적으로 돌변하여 란돌포의 재물을 몽땅 털어간다. 설상가상으로 란돌포는 풍랑을 만나 죽을 위기에 처하게 되는데, 널빤지 하나와 궤짝 하나에 의지해서 망망히 바다위를 떠다니다가 빈 몸으로 코르퓨 섬에 닿는다.nn그런데 마침 붙잡고 온 궤짝이 안에 보석들이 담겨 있는 보물상자였으므로, 란돌포는 자루에 보석을 숨겨서 고향으로 돌아온다. 란돌포가 보석을 판 돈은 막대했으므로, 이후에는 장사니 무역이니 하는 것은 다시는 생각하지 않고, 편안히 여생을 보냈다고 한다.\n",
      "Question: 란돌포가 전 재산을 투자한 상품으로 하고자 한 일은?\n",
      "Answer: 무역\n"
     ]
    }
   ],
   "source": [
    "for idx, sample in zip(range(1, 4), indexed_train_dataset):\n",
    "    print(f'------{idx}------')\n",
    "    print('Context:', sample['context'])\n",
    "    print('Question:', sample['question'])\n",
    "    \n",
    "    input_ids, token_type_ids = [\n",
    "        torch.tensor(sample[key], dtype=torch.long, device=\"cuda\")\n",
    "        for key in (\"input_ids\", \"token_type_ids\")\n",
    "    ]\n",
    "    \n",
    "    model.eval()\n",
    "    with torch.no_grad():\n",
    "        output = model(input_ids=input_ids[None, :], token_type_ids=token_type_ids[None, :])\n",
    "\n",
    "    start_logits = output.start_logits\n",
    "    end_logits = output.end_logits\n",
    "    start_logits.squeeze_(0), end_logits.squeeze_(0)\n",
    "    \n",
    "    start_prob = start_logits[token_type_ids.bool()][1:-1].softmax(-1)\n",
    "    end_prob = end_logits[token_type_ids.bool()][1:-1].softmax(-1)\n",
    "\n",
    "    probability = torch.triu(start_prob[:, None] @ end_prob[None, :])\n",
    "\n",
    "    index = torch.argmax(probability).item()\n",
    "    \n",
    "    start = index // len(end_prob)\n",
    "    end = index % len(end_prob)\n",
    "    \n",
    "    start_str = sample['position'][start][0]\n",
    "    end_str = sample['position'][end][1]\n",
    "\n",
    "    print('Answer:', sample['context'][start_str:end_str])"
   ]
  },
  {
   "cell_type": "markdown",
   "metadata": {
    "id": "Ul-FlUBZY88_"
   },
   "source": [
    "## Evaluate"
   ]
  },
  {
   "cell_type": "code",
   "execution_count": 31,
   "metadata": {
    "id": "cyVG3J2hu8-s"
   },
   "outputs": [
    {
     "data": {
      "application/vnd.jupyter.widget-view+json": {
       "model_id": "5877f36d84d343b8880ba18b6548cbf8",
       "version_major": 2,
       "version_minor": 0
      },
      "text/plain": [
       "HBox(children=(HTML(value='Testing'), FloatProgress(value=0.0, max=4008.0), HTML(value='')))"
      ]
     },
     "metadata": {},
     "output_type": "display_data"
    },
    {
     "name": "stdout",
     "output_type": "stream",
     "text": [
      "\n"
     ]
    }
   ],
   "source": [
    "start_visualize = []\n",
    "end_visualize = []\n",
    "\n",
    "with torch.no_grad(), open(f'submissions/{args.NAME}.csv', 'w') as fd:\n",
    "    writer = csv.writer(fd)\n",
    "    writer.writerow(['Id', 'Predicted'])\n",
    "\n",
    "    rows = []\n",
    "    c = 0\n",
    "    # for sample in tqdm(test_dataset, \"Testing\"):\n",
    "    for sample in tqdm(indexed_test_dataset, \"Testing\"):\n",
    "        input_ids, token_type_ids = [torch.tensor(sample[key], dtype=torch.long, device=\"cuda\") for key in (\"input_ids\", \"token_type_ids\")]\n",
    "        # print(sample)\n",
    "    \n",
    "        model.eval()\n",
    "        with torch.no_grad():\n",
    "            output = model(input_ids=input_ids[None, :], token_type_ids=token_type_ids[None, :])\n",
    "\n",
    "        start_logits = output.start_logits\n",
    "        end_logits = output.end_logits\n",
    "        start_logits.squeeze_(0), end_logits.squeeze_(0)\n",
    "\n",
    "        start_prob = start_logits[token_type_ids.bool()][1:-1].softmax(-1)\n",
    "        end_prob = end_logits[token_type_ids.bool()][1:-1].softmax(-1)\n",
    "\n",
    "        probability = torch.triu(start_prob[:, None] @ end_prob[None, :])\n",
    "\n",
    "        # 토큰 길이 8까지만\n",
    "        for row in range(len(start_prob) - 8):\n",
    "            probability[row] = torch.cat((probability[row][:8+row].cpu(), torch.Tensor([0] * (len(start_prob)-(8+row))).cpu()), 0)\n",
    "\n",
    "        index = torch.argmax(probability).item()\n",
    "\n",
    "        start = index // len(end_prob)\n",
    "        end = index % len(end_prob)\n",
    "        \n",
    "        # 확률 너무 낮으면 자르기\n",
    "        if start_prob[start] > 0.3 and end_prob[end] > 0.3:\n",
    "            start_str = sample['position'][start][0]\n",
    "            end_str = sample['position'][end][1]\n",
    "        else:\n",
    "            start_str = 0\n",
    "            end_str = 0\n",
    "\n",
    "        start_visualize.append((list(start_prob.cpu()), (start, end), (start_str, end_str)))\n",
    "        end_visualize.append((list(end_prob.cpu()), (start, end), (start_str, end_str)))\n",
    "        \n",
    "        rows.append([sample[\"guid\"], sample['context'][start_str:end_str]])\n",
    "\n",
    "    writer.writerows(rows)"
   ]
  },
  {
   "cell_type": "markdown",
   "metadata": {
    "id": "tess2OmJba2K"
   },
   "source": [
    "## Visualize Evaluation"
   ]
  },
  {
   "cell_type": "code",
   "execution_count": 32,
   "metadata": {
    "id": "VBsEFEOxbRt4"
   },
   "outputs": [
    {
     "name": "stderr",
     "output_type": "stream",
     "text": [
      "<ipython-input-32-5285ffb1187d>:3: VisibleDeprecationWarning: Creating an ndarray from ragged nested sequences (which is a list-or-tuple of lists-or-tuples-or ndarrays with different lengths or shapes) is deprecated. If you meant to do this, you must specify 'dtype=object' when creating the ndarray\n",
      "  start_visualize = np.array(start_visualize)\n",
      "<ipython-input-32-5285ffb1187d>:4: VisibleDeprecationWarning: Creating an ndarray from ragged nested sequences (which is a list-or-tuple of lists-or-tuples-or ndarrays with different lengths or shapes) is deprecated. If you meant to do this, you must specify 'dtype=object' when creating the ndarray\n",
      "  end_visualize = np.array(end_visualize)\n"
     ]
    },
    {
     "data": {
      "image/png": "[encoded data removed]",
      "text/plain": [
       "<Figure size 432x288 with 1 Axes>"
      ]
     },
     "metadata": {
      "needs_background": "light"
     },
     "output_type": "display_data"
    },
    {
     "name": "stdout",
     "output_type": "stream",
     "text": [
      "token position: (338, 342)\n",
      "context position: (0, 0)\n"
     ]
    }
   ],
   "source": [
    "idx = 0\n",
    "\n",
    "start_visualize = np.array(start_visualize)\n",
    "end_visualize = np.array(end_visualize)\n",
    "\n",
    "start_probalilities, token_pos, str_pos = start_visualize[:,0], start_visualize[:,1], start_visualize[:,2]\n",
    "end_probalilities, token_pos, str_pos = end_visualize[:,0], end_visualize[:,1], end_visualize[:,2]\n",
    "\n",
    "plt.plot(start_probalilities[idx], label=\"start probability\")\n",
    "plt.plot(end_probalilities[idx], label=\"end probability\")\n",
    "plt.xlabel(\"context token index\")\n",
    "plt.ylabel(\"probablilty\")\n",
    "plt.legend()\n",
    "plt.show()\n",
    "\n",
    "print('token position:', token_pos[idx])\n",
    "print('context position:', str_pos[idx])"
   ]
  },
  {
   "cell_type": "code",
   "execution_count": 33,
   "metadata": {},
   "outputs": [
    {
     "name": "stdout",
     "output_type": "stream",
     "text": [
      "1 294 298\n"
     ]
    },
    {
     "data": {
      "image/png": "[encoded data removed]",
      "text/plain": [
       "<Figure size 432x288 with 1 Axes>"
      ]
     },
     "metadata": {
      "needs_background": "light"
     },
     "output_type": "display_data"
    }
   ],
   "source": [
    "for i, (start, end) in enumerate(token_pos):\n",
    "    if end - start > 1:\n",
    "        if i > 0:\n",
    "            plt.plot(start_probalilities[i])\n",
    "            plt.plot(end_probalilities[i])\n",
    "            print(i, start, end)\n",
    "            break"
   ]
  },
  {
   "cell_type": "code",
   "execution_count": 34,
   "metadata": {},
   "outputs": [
    {
     "name": "stdout",
     "output_type": "stream",
     "text": [
      "2.1197604790419162\n"
     ]
    },
    {
     "data": {
      "image/png": "[encoded data removed]",
      "text/plain": [
       "<Figure size 432x288 with 1 Axes>"
      ]
     },
     "metadata": {
      "needs_background": "light"
     },
     "output_type": "display_data"
    }
   ],
   "source": [
    "temp = []\n",
    "h = 0\n",
    "l = 100\n",
    "for i, (start, end) in enumerate(token_pos):\n",
    "    h = max(h, end - start)\n",
    "    l = min(l ,end - start)\n",
    "    temp.append(end - start)\n",
    "plt.plot(temp)\n",
    "print(mean(temp))"
   ]
  },
  {
   "cell_type": "code",
   "execution_count": 35,
   "metadata": {
    "tags": []
   },
   "outputs": [
    {
     "data": {
      "text/plain": [
       "[<matplotlib.lines.Line2D at 0x7f486e419c40>]"
      ]
     },
     "execution_count": 35,
     "metadata": {},
     "output_type": "execute_result"
    },
    {
     "data": {
      "image/png": "[encoded data removed]",
      "text/plain": [
       "<Figure size 432x288 with 1 Axes>"
      ]
     },
     "metadata": {
      "needs_background": "light"
     },
     "output_type": "display_data"
    }
   ],
   "source": [
    "mu = mean(temp)\n",
    "sigma = math.sqrt(np.var(temp))\n",
    "x = np.linspace(-100, 100, len(temp))\n",
    "g = (1 / np.sqrt(2*np.pi * sigma**2)) * np.exp(- (x-mu)**2 / (2*sigma**2))\n",
    "plt.title('Gaussian')\n",
    "plt.plot(x, g)"
   ]
  },
  {
   "cell_type": "code",
   "execution_count": 36,
   "metadata": {},
   "outputs": [
    {
     "name": "stdout",
     "output_type": "stream",
     "text": [
      "평균: 0.0\n",
      "표준편차: 1.0000000000000002\n",
      "-----90%------\n",
      "2.0756044927435378\n",
      "2.1639164653402947\n",
      "-----95%------\n",
      "2.0671490911119332\n",
      "2.172371866971899\n",
      "-----99%------\n",
      "2.050614083476796\n",
      "2.1889068746070364\n"
     ]
    }
   ],
   "source": [
    "z = [(i-mu)/sigma for i in temp]\n",
    "print(f'평균: {round(mean(z), 9)}')\n",
    "print(f'표준편차: {math.sqrt(np.var(z))}')\n",
    "print('-----90%------')\n",
    "print(mu - 1.645*sigma/math.sqrt(len(temp)))\n",
    "print(mu + 1.645*sigma/math.sqrt(len(temp)))\n",
    "print('-----95%------')\n",
    "print(mu - 1.96*sigma/math.sqrt(len(temp)))\n",
    "print(mu + 1.96*sigma/math.sqrt(len(temp)))\n",
    "print('-----99%------')\n",
    "print(mu - 2.576*sigma/math.sqrt(len(temp)))\n",
    "print(mu + 2.576*sigma/math.sqrt(len(temp)))"
   ]
  },
  {
   "cell_type": "code",
   "execution_count": null,
   "metadata": {},
   "outputs": [],
   "source": []
  }
 ],
 "metadata": {
  "accelerator": "GPU",
  "colab": {
   "authorship_tag": "ABX9TyPPqI+M8NOhzknxVU85TvZb",
   "background_execution": "on",
   "collapsed_sections": [
    "F6uJSyQCSEoa",
    "YbKj9juZVV7W",
    "9hCiOQO4VYqM",
    "MlKUCHM9SUim",
    "eAfQOTuPeuWN"
   ],
   "machine_shape": "hm",
   "mount_file_id": "1D0oyh8a84WvhSLt-DAyn0S1JG4aNFg6n",
   "name": "baselinecode_fixing.ipynb",
   "provenance": [],
   "toc_visible": true
  },
  "kernelspec": {
   "display_name": "Python 3 (ipykernel)",
   "language": "python",
   "name": "python3"
  },
  "language_info": {
   "codemirror_mode": {
    "name": "ipython",
    "version": 3
   },
   "file_extension": ".py",
   "mimetype": "text/x-python",
   "name": "python",
   "nbconvert_exporter": "python",
   "pygments_lexer": "ipython3",
   "version": "3.8.5"
  },
  "widgets": {
   "application/vnd.jupyter.widget-state+json": {
    "00ec2dd9391f4a10826f724ce711d80d": {
     "model_module": "@jupyter-widgets/controls",
     "model_module_version": "1.5.0",
     "model_name": "FloatProgressModel",
     "state": {
      "_dom_classes": [],
      "_model_module": "@jupyter-widgets/controls",
      "_model_module_version": "1.5.0",
      "_model_name": "FloatProgressModel",
      "_view_count": null,
      "_view_module": "@jupyter-widgets/controls",
      "_view_module_version": "1.5.0",
      "_view_name": "ProgressView",
      "bar_style": "success",
      "description": "",
      "description_tooltip": null,
      "layout": "IPY_MODEL_e214ec39d4344afc9ae0d4181fb06398",
      "max": 263326,
      "min": 0,
      "orientation": "horizontal",
      "style": "IPY_MODEL_5c88b5160f23451c9d61fb3a5009b021",
      "value": 263326
     }
    },
    "0458f51b68e345c481afcfedebd28da7": {
     "model_module": "@jupyter-widgets/controls",
     "model_module_version": "1.5.0",
     "model_name": "HBoxModel",
     "state": {
      "_dom_classes": [],
      "_model_module": "@jupyter-widgets/controls",
      "_model_module_version": "1.5.0",
      "_model_name": "HBoxModel",
      "_view_count": null,
      "_view_module": "@jupyter-widgets/controls",
      "_view_module_version": "1.5.0",
      "_view_name": "HBoxView",
      "box_style": "",
      "children": [
       "IPY_MODEL_b3ee09dbae5b419aa5dca8280991917a",
       "IPY_MODEL_21aaf3c8d96d41c78ba0f9f9b3fb799e",
       "IPY_MODEL_c0ed98ff850f49cea8aaac5bdfd397f9"
      ],
      "layout": "IPY_MODEL_58706e9bade3490cad47b6a42f010da6"
     }
    },
    "0a90e8a449d54478a024fc48256174ec": {
     "model_module": "@jupyter-widgets/base",
     "model_module_version": "1.2.0",
     "model_name": "LayoutModel",
     "state": {
      "_model_module": "@jupyter-widgets/base",
      "_model_module_version": "1.2.0",
      "_model_name": "LayoutModel",
      "_view_count": null,
      "_view_module": "@jupyter-widgets/base",
      "_view_module_version": "1.2.0",
      "_view_name": "LayoutView",
      "align_content": null,
      "align_items": null,
      "align_self": null,
      "border": null,
      "bottom": null,
      "display": null,
      "flex": null,
      "flex_flow": null,
      "grid_area": null,
      "grid_auto_columns": null,
      "grid_auto_flow": null,
      "grid_auto_rows": null,
      "grid_column": null,
      "grid_gap": null,
      "grid_row": null,
      "grid_template_areas": null,
      "grid_template_columns": null,
      "grid_template_rows": null,
      "height": null,
      "justify_content": null,
      "justify_items": null,
      "left": null,
      "margin": null,
      "max_height": null,
      "max_width": null,
      "min_height": null,
      "min_width": null,
      "object_fit": null,
      "object_position": null,
      "order": null,
      "overflow": null,
      "overflow_x": null,
      "overflow_y": null,
      "padding": null,
      "right": null,
      "top": null,
      "visibility": null,
      "width": null
     }
    },
    "13f5178ac1bc48139f7651840202914b": {
     "model_module": "@jupyter-widgets/base",
     "model_module_version": "1.2.0",
     "model_name": "LayoutModel",
     "state": {
      "_model_module": "@jupyter-widgets/base",
      "_model_module_version": "1.2.0",
      "_model_name": "LayoutModel",
      "_view_count": null,
      "_view_module": "@jupyter-widgets/base",
      "_view_module_version": "1.2.0",
      "_view_name": "LayoutView",
      "align_content": null,
      "align_items": null,
      "align_self": null,
      "border": null,
      "bottom": null,
      "display": null,
      "flex": null,
      "flex_flow": null,
      "grid_area": null,
      "grid_auto_columns": null,
      "grid_auto_flow": null,
      "grid_auto_rows": null,
      "grid_column": null,
      "grid_gap": null,
      "grid_row": null,
      "grid_template_areas": null,
      "grid_template_columns": null,
      "grid_template_rows": null,
      "height": null,
      "justify_content": null,
      "justify_items": null,
      "left": null,
      "margin": null,
      "max_height": null,
      "max_width": null,
      "min_height": null,
      "min_width": null,
      "object_fit": null,
      "object_position": null,
      "order": null,
      "overflow": null,
      "overflow_x": null,
      "overflow_y": null,
      "padding": null,
      "right": null,
      "top": null,
      "visibility": null,
      "width": null
     }
    },
    "150d3c4e01d04c96a23db71989ccaf5d": {
     "model_module": "@jupyter-widgets/controls",
     "model_module_version": "1.5.0",
     "model_name": "DescriptionStyleModel",
     "state": {
      "_model_module": "@jupyter-widgets/controls",
      "_model_module_version": "1.5.0",
      "_model_name": "DescriptionStyleModel",
      "_view_count": null,
      "_view_module": "@jupyter-widgets/base",
      "_view_module_version": "1.2.0",
      "_view_name": "StyleView",
      "description_width": ""
     }
    },
    "1b8597a0d76d4128a544701606260406": {
     "model_module": "@jupyter-widgets/base",
     "model_module_version": "1.2.0",
     "model_name": "LayoutModel",
     "state": {
      "_model_module": "@jupyter-widgets/base",
      "_model_module_version": "1.2.0",
      "_model_name": "LayoutModel",
      "_view_count": null,
      "_view_module": "@jupyter-widgets/base",
      "_view_module_version": "1.2.0",
      "_view_name": "LayoutView",
      "align_content": null,
      "align_items": null,
      "align_self": null,
      "border": null,
      "bottom": null,
      "display": null,
      "flex": null,
      "flex_flow": null,
      "grid_area": null,
      "grid_auto_columns": null,
      "grid_auto_flow": null,
      "grid_auto_rows": null,
      "grid_column": null,
      "grid_gap": null,
      "grid_row": null,
      "grid_template_areas": null,
      "grid_template_columns": null,
      "grid_template_rows": null,
      "height": null,
      "justify_content": null,
      "justify_items": null,
      "left": null,
      "margin": null,
      "max_height": null,
      "max_width": null,
      "min_height": null,
      "min_width": null,
      "object_fit": null,
      "object_position": null,
      "order": null,
      "overflow": null,
      "overflow_x": null,
      "overflow_y": null,
      "padding": null,
      "right": null,
      "top": null,
      "visibility": null,
      "width": null
     }
    },
    "1d9ec925386947c48a18cf9c52b2e8dc": {
     "model_module": "@jupyter-widgets/base",
     "model_module_version": "1.2.0",
     "model_name": "LayoutModel",
     "state": {
      "_model_module": "@jupyter-widgets/base",
      "_model_module_version": "1.2.0",
      "_model_name": "LayoutModel",
      "_view_count": null,
      "_view_module": "@jupyter-widgets/base",
      "_view_module_version": "1.2.0",
      "_view_name": "LayoutView",
      "align_content": null,
      "align_items": null,
      "align_self": null,
      "border": null,
      "bottom": null,
      "display": null,
      "flex": null,
      "flex_flow": null,
      "grid_area": null,
      "grid_auto_columns": null,
      "grid_auto_flow": null,
      "grid_auto_rows": null,
      "grid_column": null,
      "grid_gap": null,
      "grid_row": null,
      "grid_template_areas": null,
      "grid_template_columns": null,
      "grid_template_rows": null,
      "height": null,
      "justify_content": null,
      "justify_items": null,
      "left": null,
      "margin": null,
      "max_height": null,
      "max_width": null,
      "min_height": null,
      "min_width": null,
      "object_fit": null,
      "object_position": null,
      "order": null,
      "overflow": null,
      "overflow_x": null,
      "overflow_y": null,
      "padding": null,
      "right": null,
      "top": null,
      "visibility": null,
      "width": null
     }
    },
    "21aaf3c8d96d41c78ba0f9f9b3fb799e": {
     "model_module": "@jupyter-widgets/controls",
     "model_module_version": "1.5.0",
     "model_name": "FloatProgressModel",
     "state": {
      "_dom_classes": [],
      "_model_module": "@jupyter-widgets/controls",
      "_model_module_version": "1.5.0",
      "_model_name": "FloatProgressModel",
      "_view_count": null,
      "_view_module": "@jupyter-widgets/controls",
      "_view_module_version": "1.5.0",
      "_view_name": "ProgressView",
      "bar_style": "success",
      "description": "",
      "description_tooltip": null,
      "layout": "IPY_MODEL_33462c9795984bc6893f33998611a748",
      "max": 451741507,
      "min": 0,
      "orientation": "horizontal",
      "style": "IPY_MODEL_77c8c54416f94386b69153897b83f2f0",
      "value": 451741507
     }
    },
    "2679121ae7bd49fab5a9e9f74adc6e6c": {
     "model_module": "@jupyter-widgets/controls",
     "model_module_version": "1.5.0",
     "model_name": "HTMLModel",
     "state": {
      "_dom_classes": [],
      "_model_module": "@jupyter-widgets/controls",
      "_model_module_version": "1.5.0",
      "_model_name": "HTMLModel",
      "_view_count": null,
      "_view_module": "@jupyter-widgets/controls",
      "_view_module_version": "1.5.0",
      "_view_name": "HTMLView",
      "description": "",
      "description_tooltip": null,
      "layout": "IPY_MODEL_e3561aeee9c247a1a92c1df34e7ed509",
      "placeholder": "​",
      "style": "IPY_MODEL_34d1094d406241d682ea8e9b83edd51f",
      "value": "Downloading: 100%"
     }
    },
    "27459b7d3341487bbb3afc098ebea413": {
     "model_module": "@jupyter-widgets/base",
     "model_module_version": "1.2.0",
     "model_name": "LayoutModel",
     "state": {
      "_model_module": "@jupyter-widgets/base",
      "_model_module_version": "1.2.0",
      "_model_name": "LayoutModel",
      "_view_count": null,
      "_view_module": "@jupyter-widgets/base",
      "_view_module_version": "1.2.0",
      "_view_name": "LayoutView",
      "align_content": null,
      "align_items": null,
      "align_self": null,
      "border": null,
      "bottom": null,
      "display": null,
      "flex": null,
      "flex_flow": null,
      "grid_area": null,
      "grid_auto_columns": null,
      "grid_auto_flow": null,
      "grid_auto_rows": null,
      "grid_column": null,
      "grid_gap": null,
      "grid_row": null,
      "grid_template_areas": null,
      "grid_template_columns": null,
      "grid_template_rows": null,
      "height": null,
      "justify_content": null,
      "justify_items": null,
      "left": null,
      "margin": null,
      "max_height": null,
      "max_width": null,
      "min_height": null,
      "min_width": null,
      "object_fit": null,
      "object_position": null,
      "order": null,
      "overflow": null,
      "overflow_x": null,
      "overflow_y": null,
      "padding": null,
      "right": null,
      "top": null,
      "visibility": null,
      "width": null
     }
    },
    "2ce4afd1875343aea4bc5c7f521b1e5c": {
     "model_module": "@jupyter-widgets/controls",
     "model_module_version": "1.5.0",
     "model_name": "HTMLModel",
     "state": {
      "_dom_classes": [],
      "_model_module": "@jupyter-widgets/controls",
      "_model_module_version": "1.5.0",
      "_model_name": "HTMLModel",
      "_view_count": null,
      "_view_module": "@jupyter-widgets/controls",
      "_view_module_version": "1.5.0",
      "_view_name": "HTMLView",
      "description": "",
      "description_tooltip": null,
      "layout": "IPY_MODEL_5779b4e4d0e145f49a0da2a58358c294",
      "placeholder": "​",
      "style": "IPY_MODEL_bc067dde7c2344eb8d8cfa097a394338",
      "value": "Downloading: 100%"
     }
    },
    "33145eae87e04019aaab299aef0c73df": {
     "model_module": "@jupyter-widgets/base",
     "model_module_version": "1.2.0",
     "model_name": "LayoutModel",
     "state": {
      "_model_module": "@jupyter-widgets/base",
      "_model_module_version": "1.2.0",
      "_model_name": "LayoutModel",
      "_view_count": null,
      "_view_module": "@jupyter-widgets/base",
      "_view_module_version": "1.2.0",
      "_view_name": "LayoutView",
      "align_content": null,
      "align_items": null,
      "align_self": null,
      "border": null,
      "bottom": null,
      "display": null,
      "flex": null,
      "flex_flow": null,
      "grid_area": null,
      "grid_auto_columns": null,
      "grid_auto_flow": null,
      "grid_auto_rows": null,
      "grid_column": null,
      "grid_gap": null,
      "grid_row": null,
      "grid_template_areas": null,
      "grid_template_columns": null,
      "grid_template_rows": null,
      "height": null,
      "justify_content": null,
      "justify_items": null,
      "left": null,
      "margin": null,
      "max_height": null,
      "max_width": null,
      "min_height": null,
      "min_width": null,
      "object_fit": null,
      "object_position": null,
      "order": null,
      "overflow": null,
      "overflow_x": null,
      "overflow_y": null,
      "padding": null,
      "right": null,
      "top": null,
      "visibility": null,
      "width": null
     }
    },
    "33462c9795984bc6893f33998611a748": {
     "model_module": "@jupyter-widgets/base",
     "model_module_version": "1.2.0",
     "model_name": "LayoutModel",
     "state": {
      "_model_module": "@jupyter-widgets/base",
      "_model_module_version": "1.2.0",
      "_model_name": "LayoutModel",
      "_view_count": null,
      "_view_module": "@jupyter-widgets/base",
      "_view_module_version": "1.2.0",
      "_view_name": "LayoutView",
      "align_content": null,
      "align_items": null,
      "align_self": null,
      "border": null,
      "bottom": null,
      "display": null,
      "flex": null,
      "flex_flow": null,
      "grid_area": null,
      "grid_auto_columns": null,
      "grid_auto_flow": null,
      "grid_auto_rows": null,
      "grid_column": null,
      "grid_gap": null,
      "grid_row": null,
      "grid_template_areas": null,
      "grid_template_columns": null,
      "grid_template_rows": null,
      "height": null,
      "justify_content": null,
      "justify_items": null,
      "left": null,
      "margin": null,
      "max_height": null,
      "max_width": null,
      "min_height": null,
      "min_width": null,
      "object_fit": null,
      "object_position": null,
      "order": null,
      "overflow": null,
      "overflow_x": null,
      "overflow_y": null,
      "padding": null,
      "right": null,
      "top": null,
      "visibility": null,
      "width": null
     }
    },
    "34d1094d406241d682ea8e9b83edd51f": {
     "model_module": "@jupyter-widgets/controls",
     "model_module_version": "1.5.0",
     "model_name": "DescriptionStyleModel",
     "state": {
      "_model_module": "@jupyter-widgets/controls",
      "_model_module_version": "1.5.0",
      "_model_name": "DescriptionStyleModel",
      "_view_count": null,
      "_view_module": "@jupyter-widgets/base",
      "_view_module_version": "1.2.0",
      "_view_name": "StyleView",
      "description_width": ""
     }
    },
    "34e6307be5cd4217a1f6daf995d58055": {
     "model_module": "@jupyter-widgets/controls",
     "model_module_version": "1.5.0",
     "model_name": "DescriptionStyleModel",
     "state": {
      "_model_module": "@jupyter-widgets/controls",
      "_model_module_version": "1.5.0",
      "_model_name": "DescriptionStyleModel",
      "_view_count": null,
      "_view_module": "@jupyter-widgets/base",
      "_view_module_version": "1.2.0",
      "_view_name": "StyleView",
      "description_width": ""
     }
    },
    "38c59a4cf82446938c9c401aceab52db": {
     "model_module": "@jupyter-widgets/base",
     "model_module_version": "1.2.0",
     "model_name": "LayoutModel",
     "state": {
      "_model_module": "@jupyter-widgets/base",
      "_model_module_version": "1.2.0",
      "_model_name": "LayoutModel",
      "_view_count": null,
      "_view_module": "@jupyter-widgets/base",
      "_view_module_version": "1.2.0",
      "_view_name": "LayoutView",
      "align_content": null,
      "align_items": null,
      "align_self": null,
      "border": null,
      "bottom": null,
      "display": null,
      "flex": null,
      "flex_flow": null,
      "grid_area": null,
      "grid_auto_columns": null,
      "grid_auto_flow": null,
      "grid_auto_rows": null,
      "grid_column": null,
      "grid_gap": null,
      "grid_row": null,
      "grid_template_areas": null,
      "grid_template_columns": null,
      "grid_template_rows": null,
      "height": null,
      "justify_content": null,
      "justify_items": null,
      "left": null,
      "margin": null,
      "max_height": null,
      "max_width": null,
      "min_height": null,
      "min_width": null,
      "object_fit": null,
      "object_position": null,
      "order": null,
      "overflow": null,
      "overflow_x": null,
      "overflow_y": null,
      "padding": null,
      "right": null,
      "top": null,
      "visibility": null,
      "width": null
     }
    },
    "50f084ad7ed34f61b78cac60e521d5dc": {
     "model_module": "@jupyter-widgets/controls",
     "model_module_version": "1.5.0",
     "model_name": "DescriptionStyleModel",
     "state": {
      "_model_module": "@jupyter-widgets/controls",
      "_model_module_version": "1.5.0",
      "_model_name": "DescriptionStyleModel",
      "_view_count": null,
      "_view_module": "@jupyter-widgets/base",
      "_view_module_version": "1.2.0",
      "_view_name": "StyleView",
      "description_width": ""
     }
    },
    "547a7ffd4cf24f12bcbaa9f8bb6181a0": {
     "model_module": "@jupyter-widgets/controls",
     "model_module_version": "1.5.0",
     "model_name": "HTMLModel",
     "state": {
      "_dom_classes": [],
      "_model_module": "@jupyter-widgets/controls",
      "_model_module_version": "1.5.0",
      "_model_name": "HTMLModel",
      "_view_count": null,
      "_view_module": "@jupyter-widgets/controls",
      "_view_module_version": "1.5.0",
      "_view_name": "HTMLView",
      "description": "",
      "description_tooltip": null,
      "layout": "IPY_MODEL_efbba03209f5470f8503d88b685415aa",
      "placeholder": "​",
      "style": "IPY_MODEL_c10273b1b6524ccbbb553c6a2e500a2c",
      "value": " 467/467 [00:00&lt;00:00, 21.5kB/s]"
     }
    },
    "56aea15e6c624895852ef618d84fe690": {
     "model_module": "@jupyter-widgets/controls",
     "model_module_version": "1.5.0",
     "model_name": "HTMLModel",
     "state": {
      "_dom_classes": [],
      "_model_module": "@jupyter-widgets/controls",
      "_model_module_version": "1.5.0",
      "_model_name": "HTMLModel",
      "_view_count": null,
      "_view_module": "@jupyter-widgets/controls",
      "_view_module_version": "1.5.0",
      "_view_name": "HTMLView",
      "description": "",
      "description_tooltip": null,
      "layout": "IPY_MODEL_1d9ec925386947c48a18cf9c52b2e8dc",
      "placeholder": "​",
      "style": "IPY_MODEL_150d3c4e01d04c96a23db71989ccaf5d",
      "value": "Downloading: 100%"
     }
    },
    "5779b4e4d0e145f49a0da2a58358c294": {
     "model_module": "@jupyter-widgets/base",
     "model_module_version": "1.2.0",
     "model_name": "LayoutModel",
     "state": {
      "_model_module": "@jupyter-widgets/base",
      "_model_module_version": "1.2.0",
      "_model_name": "LayoutModel",
      "_view_count": null,
      "_view_module": "@jupyter-widgets/base",
      "_view_module_version": "1.2.0",
      "_view_name": "LayoutView",
      "align_content": null,
      "align_items": null,
      "align_self": null,
      "border": null,
      "bottom": null,
      "display": null,
      "flex": null,
      "flex_flow": null,
      "grid_area": null,
      "grid_auto_columns": null,
      "grid_auto_flow": null,
      "grid_auto_rows": null,
      "grid_column": null,
      "grid_gap": null,
      "grid_row": null,
      "grid_template_areas": null,
      "grid_template_columns": null,
      "grid_template_rows": null,
      "height": null,
      "justify_content": null,
      "justify_items": null,
      "left": null,
      "margin": null,
      "max_height": null,
      "max_width": null,
      "min_height": null,
      "min_width": null,
      "object_fit": null,
      "object_position": null,
      "order": null,
      "overflow": null,
      "overflow_x": null,
      "overflow_y": null,
      "padding": null,
      "right": null,
      "top": null,
      "visibility": null,
      "width": null
     }
    },
    "58706e9bade3490cad47b6a42f010da6": {
     "model_module": "@jupyter-widgets/base",
     "model_module_version": "1.2.0",
     "model_name": "LayoutModel",
     "state": {
      "_model_module": "@jupyter-widgets/base",
      "_model_module_version": "1.2.0",
      "_model_name": "LayoutModel",
      "_view_count": null,
      "_view_module": "@jupyter-widgets/base",
      "_view_module_version": "1.2.0",
      "_view_name": "LayoutView",
      "align_content": null,
      "align_items": null,
      "align_self": null,
      "border": null,
      "bottom": null,
      "display": null,
      "flex": null,
      "flex_flow": null,
      "grid_area": null,
      "grid_auto_columns": null,
      "grid_auto_flow": null,
      "grid_auto_rows": null,
      "grid_column": null,
      "grid_gap": null,
      "grid_row": null,
      "grid_template_areas": null,
      "grid_template_columns": null,
      "grid_template_rows": null,
      "height": null,
      "justify_content": null,
      "justify_items": null,
      "left": null,
      "margin": null,
      "max_height": null,
      "max_width": null,
      "min_height": null,
      "min_width": null,
      "object_fit": null,
      "object_position": null,
      "order": null,
      "overflow": null,
      "overflow_x": null,
      "overflow_y": null,
      "padding": null,
      "right": null,
      "top": null,
      "visibility": null,
      "width": null
     }
    },
    "5a9d0101f98a48d6a775e4f659eaaa93": {
     "model_module": "@jupyter-widgets/controls",
     "model_module_version": "1.5.0",
     "model_name": "DescriptionStyleModel",
     "state": {
      "_model_module": "@jupyter-widgets/controls",
      "_model_module_version": "1.5.0",
      "_model_name": "DescriptionStyleModel",
      "_view_count": null,
      "_view_module": "@jupyter-widgets/base",
      "_view_module_version": "1.2.0",
      "_view_name": "StyleView",
      "description_width": ""
     }
    },
    "5c88b5160f23451c9d61fb3a5009b021": {
     "model_module": "@jupyter-widgets/controls",
     "model_module_version": "1.5.0",
     "model_name": "ProgressStyleModel",
     "state": {
      "_model_module": "@jupyter-widgets/controls",
      "_model_module_version": "1.5.0",
      "_model_name": "ProgressStyleModel",
      "_view_count": null,
      "_view_module": "@jupyter-widgets/base",
      "_view_module_version": "1.2.0",
      "_view_name": "StyleView",
      "bar_color": null,
      "description_width": ""
     }
    },
    "5ce3e6559dff4b59aae228fdabf5a295": {
     "model_module": "@jupyter-widgets/controls",
     "model_module_version": "1.5.0",
     "model_name": "ProgressStyleModel",
     "state": {
      "_model_module": "@jupyter-widgets/controls",
      "_model_module_version": "1.5.0",
      "_model_name": "ProgressStyleModel",
      "_view_count": null,
      "_view_module": "@jupyter-widgets/base",
      "_view_module_version": "1.2.0",
      "_view_name": "StyleView",
      "bar_color": null,
      "description_width": ""
     }
    },
    "77c8c54416f94386b69153897b83f2f0": {
     "model_module": "@jupyter-widgets/controls",
     "model_module_version": "1.5.0",
     "model_name": "ProgressStyleModel",
     "state": {
      "_model_module": "@jupyter-widgets/controls",
      "_model_module_version": "1.5.0",
      "_model_name": "ProgressStyleModel",
      "_view_count": null,
      "_view_module": "@jupyter-widgets/base",
      "_view_module_version": "1.2.0",
      "_view_name": "StyleView",
      "bar_color": null,
      "description_width": ""
     }
    },
    "7bcb8fb2e34f48be860f3863501f843c": {
     "model_module": "@jupyter-widgets/controls",
     "model_module_version": "1.5.0",
     "model_name": "DescriptionStyleModel",
     "state": {
      "_model_module": "@jupyter-widgets/controls",
      "_model_module_version": "1.5.0",
      "_model_name": "DescriptionStyleModel",
      "_view_count": null,
      "_view_module": "@jupyter-widgets/base",
      "_view_module_version": "1.2.0",
      "_view_name": "StyleView",
      "description_width": ""
     }
    },
    "823a62c6238343edbe232263a70289c3": {
     "model_module": "@jupyter-widgets/controls",
     "model_module_version": "1.5.0",
     "model_name": "HTMLModel",
     "state": {
      "_dom_classes": [],
      "_model_module": "@jupyter-widgets/controls",
      "_model_module_version": "1.5.0",
      "_model_name": "HTMLModel",
      "_view_count": null,
      "_view_module": "@jupyter-widgets/controls",
      "_view_module_version": "1.5.0",
      "_view_name": "HTMLView",
      "description": "",
      "description_tooltip": null,
      "layout": "IPY_MODEL_f0b50ee2438c45cab7201c8d26fdae40",
      "placeholder": "​",
      "style": "IPY_MODEL_7bcb8fb2e34f48be860f3863501f843c",
      "value": " 257k/257k [00:00&lt;00:00, 601kB/s]"
     }
    },
    "86e18552dcb644cea29805c21752ecd3": {
     "model_module": "@jupyter-widgets/controls",
     "model_module_version": "1.5.0",
     "model_name": "HBoxModel",
     "state": {
      "_dom_classes": [],
      "_model_module": "@jupyter-widgets/controls",
      "_model_module_version": "1.5.0",
      "_model_name": "HBoxModel",
      "_view_count": null,
      "_view_module": "@jupyter-widgets/controls",
      "_view_module_version": "1.5.0",
      "_view_name": "HBoxView",
      "box_style": "",
      "children": [
       "IPY_MODEL_56aea15e6c624895852ef618d84fe690",
       "IPY_MODEL_c863362dfda543b689aff138d823e73c",
       "IPY_MODEL_547a7ffd4cf24f12bcbaa9f8bb6181a0"
      ],
      "layout": "IPY_MODEL_38c59a4cf82446938c9c401aceab52db"
     }
    },
    "a1c035a6c60446a4b443ec729d00e7d7": {
     "model_module": "@jupyter-widgets/controls",
     "model_module_version": "1.5.0",
     "model_name": "HBoxModel",
     "state": {
      "_dom_classes": [],
      "_model_module": "@jupyter-widgets/controls",
      "_model_module_version": "1.5.0",
      "_model_name": "HBoxModel",
      "_view_count": null,
      "_view_module": "@jupyter-widgets/controls",
      "_view_module_version": "1.5.0",
      "_view_name": "HBoxView",
      "box_style": "",
      "children": [
       "IPY_MODEL_2679121ae7bd49fab5a9e9f74adc6e6c",
       "IPY_MODEL_00ec2dd9391f4a10826f724ce711d80d",
       "IPY_MODEL_823a62c6238343edbe232263a70289c3"
      ],
      "layout": "IPY_MODEL_33145eae87e04019aaab299aef0c73df"
     }
    },
    "a9e04b9c115b4d4591b227bf2912c774": {
     "model_module": "@jupyter-widgets/controls",
     "model_module_version": "1.5.0",
     "model_name": "HTMLModel",
     "state": {
      "_dom_classes": [],
      "_model_module": "@jupyter-widgets/controls",
      "_model_module_version": "1.5.0",
      "_model_name": "HTMLModel",
      "_view_count": null,
      "_view_module": "@jupyter-widgets/controls",
      "_view_module_version": "1.5.0",
      "_view_name": "HTMLView",
      "description": "",
      "description_tooltip": null,
      "layout": "IPY_MODEL_0a90e8a449d54478a024fc48256174ec",
      "placeholder": "​",
      "style": "IPY_MODEL_5a9d0101f98a48d6a775e4f659eaaa93",
      "value": " 61.0/61.0 [00:00&lt;00:00, 2.70kB/s]"
     }
    },
    "ae27d442491940f1ac35f0062fec7983": {
     "model_module": "@jupyter-widgets/controls",
     "model_module_version": "1.5.0",
     "model_name": "HBoxModel",
     "state": {
      "_dom_classes": [],
      "_model_module": "@jupyter-widgets/controls",
      "_model_module_version": "1.5.0",
      "_model_name": "HBoxModel",
      "_view_count": null,
      "_view_module": "@jupyter-widgets/controls",
      "_view_module_version": "1.5.0",
      "_view_name": "HBoxView",
      "box_style": "",
      "children": [
       "IPY_MODEL_2ce4afd1875343aea4bc5c7f521b1e5c",
       "IPY_MODEL_bb5f1351c68442449ec3c1b6e8133290",
       "IPY_MODEL_a9e04b9c115b4d4591b227bf2912c774"
      ],
      "layout": "IPY_MODEL_1b8597a0d76d4128a544701606260406"
     }
    },
    "b3ee09dbae5b419aa5dca8280991917a": {
     "model_module": "@jupyter-widgets/controls",
     "model_module_version": "1.5.0",
     "model_name": "HTMLModel",
     "state": {
      "_dom_classes": [],
      "_model_module": "@jupyter-widgets/controls",
      "_model_module_version": "1.5.0",
      "_model_name": "HTMLModel",
      "_view_count": null,
      "_view_module": "@jupyter-widgets/controls",
      "_view_module_version": "1.5.0",
      "_view_name": "HTMLView",
      "description": "",
      "description_tooltip": null,
      "layout": "IPY_MODEL_dcc54673c0c346b5a4ef3adacee3b7c6",
      "placeholder": "​",
      "style": "IPY_MODEL_34e6307be5cd4217a1f6daf995d58055",
      "value": "Downloading: 100%"
     }
    },
    "bb5f1351c68442449ec3c1b6e8133290": {
     "model_module": "@jupyter-widgets/controls",
     "model_module_version": "1.5.0",
     "model_name": "FloatProgressModel",
     "state": {
      "_dom_classes": [],
      "_model_module": "@jupyter-widgets/controls",
      "_model_module_version": "1.5.0",
      "_model_name": "FloatProgressModel",
      "_view_count": null,
      "_view_module": "@jupyter-widgets/controls",
      "_view_module_version": "1.5.0",
      "_view_name": "ProgressView",
      "bar_style": "success",
      "description": "",
      "description_tooltip": null,
      "layout": "IPY_MODEL_13f5178ac1bc48139f7651840202914b",
      "max": 61,
      "min": 0,
      "orientation": "horizontal",
      "style": "IPY_MODEL_5ce3e6559dff4b59aae228fdabf5a295",
      "value": 61
     }
    },
    "bc067dde7c2344eb8d8cfa097a394338": {
     "model_module": "@jupyter-widgets/controls",
     "model_module_version": "1.5.0",
     "model_name": "DescriptionStyleModel",
     "state": {
      "_model_module": "@jupyter-widgets/controls",
      "_model_module_version": "1.5.0",
      "_model_name": "DescriptionStyleModel",
      "_view_count": null,
      "_view_module": "@jupyter-widgets/base",
      "_view_module_version": "1.2.0",
      "_view_name": "StyleView",
      "description_width": ""
     }
    },
    "c00888417b344194847378c9424cafd4": {
     "model_module": "@jupyter-widgets/base",
     "model_module_version": "1.2.0",
     "model_name": "LayoutModel",
     "state": {
      "_model_module": "@jupyter-widgets/base",
      "_model_module_version": "1.2.0",
      "_model_name": "LayoutModel",
      "_view_count": null,
      "_view_module": "@jupyter-widgets/base",
      "_view_module_version": "1.2.0",
      "_view_name": "LayoutView",
      "align_content": null,
      "align_items": null,
      "align_self": null,
      "border": null,
      "bottom": null,
      "display": null,
      "flex": null,
      "flex_flow": null,
      "grid_area": null,
      "grid_auto_columns": null,
      "grid_auto_flow": null,
      "grid_auto_rows": null,
      "grid_column": null,
      "grid_gap": null,
      "grid_row": null,
      "grid_template_areas": null,
      "grid_template_columns": null,
      "grid_template_rows": null,
      "height": null,
      "justify_content": null,
      "justify_items": null,
      "left": null,
      "margin": null,
      "max_height": null,
      "max_width": null,
      "min_height": null,
      "min_width": null,
      "object_fit": null,
      "object_position": null,
      "order": null,
      "overflow": null,
      "overflow_x": null,
      "overflow_y": null,
      "padding": null,
      "right": null,
      "top": null,
      "visibility": null,
      "width": null
     }
    },
    "c0ed98ff850f49cea8aaac5bdfd397f9": {
     "model_module": "@jupyter-widgets/controls",
     "model_module_version": "1.5.0",
     "model_name": "HTMLModel",
     "state": {
      "_dom_classes": [],
      "_model_module": "@jupyter-widgets/controls",
      "_model_module_version": "1.5.0",
      "_model_name": "HTMLModel",
      "_view_count": null,
      "_view_module": "@jupyter-widgets/controls",
      "_view_module_version": "1.5.0",
      "_view_name": "HTMLView",
      "description": "",
      "description_tooltip": null,
      "layout": "IPY_MODEL_c00888417b344194847378c9424cafd4",
      "placeholder": "​",
      "style": "IPY_MODEL_50f084ad7ed34f61b78cac60e521d5dc",
      "value": " 431M/431M [00:08&lt;00:00, 67.7MB/s]"
     }
    },
    "c10273b1b6524ccbbb553c6a2e500a2c": {
     "model_module": "@jupyter-widgets/controls",
     "model_module_version": "1.5.0",
     "model_name": "DescriptionStyleModel",
     "state": {
      "_model_module": "@jupyter-widgets/controls",
      "_model_module_version": "1.5.0",
      "_model_name": "DescriptionStyleModel",
      "_view_count": null,
      "_view_module": "@jupyter-widgets/base",
      "_view_module_version": "1.2.0",
      "_view_name": "StyleView",
      "description_width": ""
     }
    },
    "c863362dfda543b689aff138d823e73c": {
     "model_module": "@jupyter-widgets/controls",
     "model_module_version": "1.5.0",
     "model_name": "FloatProgressModel",
     "state": {
      "_dom_classes": [],
      "_model_module": "@jupyter-widgets/controls",
      "_model_module_version": "1.5.0",
      "_model_name": "FloatProgressModel",
      "_view_count": null,
      "_view_module": "@jupyter-widgets/controls",
      "_view_module_version": "1.5.0",
      "_view_name": "ProgressView",
      "bar_style": "success",
      "description": "",
      "description_tooltip": null,
      "layout": "IPY_MODEL_27459b7d3341487bbb3afc098ebea413",
      "max": 467,
      "min": 0,
      "orientation": "horizontal",
      "style": "IPY_MODEL_c8dd2c501fc3486e8687469421a3eb3c",
      "value": 467
     }
    },
    "c8dd2c501fc3486e8687469421a3eb3c": {
     "model_module": "@jupyter-widgets/controls",
     "model_module_version": "1.5.0",
     "model_name": "ProgressStyleModel",
     "state": {
      "_model_module": "@jupyter-widgets/controls",
      "_model_module_version": "1.5.0",
      "_model_name": "ProgressStyleModel",
      "_view_count": null,
      "_view_module": "@jupyter-widgets/base",
      "_view_module_version": "1.2.0",
      "_view_name": "StyleView",
      "bar_color": null,
      "description_width": ""
     }
    },
    "dcc54673c0c346b5a4ef3adacee3b7c6": {
     "model_module": "@jupyter-widgets/base",
     "model_module_version": "1.2.0",
     "model_name": "LayoutModel",
     "state": {
      "_model_module": "@jupyter-widgets/base",
      "_model_module_version": "1.2.0",
      "_model_name": "LayoutModel",
      "_view_count": null,
      "_view_module": "@jupyter-widgets/base",
      "_view_module_version": "1.2.0",
      "_view_name": "LayoutView",
      "align_content": null,
      "align_items": null,
      "align_self": null,
      "border": null,
      "bottom": null,
      "display": null,
      "flex": null,
      "flex_flow": null,
      "grid_area": null,
      "grid_auto_columns": null,
      "grid_auto_flow": null,
      "grid_auto_rows": null,
      "grid_column": null,
      "grid_gap": null,
      "grid_row": null,
      "grid_template_areas": null,
      "grid_template_columns": null,
      "grid_template_rows": null,
      "height": null,
      "justify_content": null,
      "justify_items": null,
      "left": null,
      "margin": null,
      "max_height": null,
      "max_width": null,
      "min_height": null,
      "min_width": null,
      "object_fit": null,
      "object_position": null,
      "order": null,
      "overflow": null,
      "overflow_x": null,
      "overflow_y": null,
      "padding": null,
      "right": null,
      "top": null,
      "visibility": null,
      "width": null
     }
    },
    "e214ec39d4344afc9ae0d4181fb06398": {
     "model_module": "@jupyter-widgets/base",
     "model_module_version": "1.2.0",
     "model_name": "LayoutModel",
     "state": {
      "_model_module": "@jupyter-widgets/base",
      "_model_module_version": "1.2.0",
      "_model_name": "LayoutModel",
      "_view_count": null,
      "_view_module": "@jupyter-widgets/base",
      "_view_module_version": "1.2.0",
      "_view_name": "LayoutView",
      "align_content": null,
      "align_items": null,
      "align_self": null,
      "border": null,
      "bottom": null,
      "display": null,
      "flex": null,
      "flex_flow": null,
      "grid_area": null,
      "grid_auto_columns": null,
      "grid_auto_flow": null,
      "grid_auto_rows": null,
      "grid_column": null,
      "grid_gap": null,
      "grid_row": null,
      "grid_template_areas": null,
      "grid_template_columns": null,
      "grid_template_rows": null,
      "height": null,
      "justify_content": null,
      "justify_items": null,
      "left": null,
      "margin": null,
      "max_height": null,
      "max_width": null,
      "min_height": null,
      "min_width": null,
      "object_fit": null,
      "object_position": null,
      "order": null,
      "overflow": null,
      "overflow_x": null,
      "overflow_y": null,
      "padding": null,
      "right": null,
      "top": null,
      "visibility": null,
      "width": null
     }
    },
    "e3561aeee9c247a1a92c1df34e7ed509": {
     "model_module": "@jupyter-widgets/base",
     "model_module_version": "1.2.0",
     "model_name": "LayoutModel",
     "state": {
      "_model_module": "@jupyter-widgets/base",
      "_model_module_version": "1.2.0",
      "_model_name": "LayoutModel",
      "_view_count": null,
      "_view_module": "@jupyter-widgets/base",
      "_view_module_version": "1.2.0",
      "_view_name": "LayoutView",
      "align_content": null,
      "align_items": null,
      "align_self": null,
      "border": null,
      "bottom": null,
      "display": null,
      "flex": null,
      "flex_flow": null,
      "grid_area": null,
      "grid_auto_columns": null,
      "grid_auto_flow": null,
      "grid_auto_rows": null,
      "grid_column": null,
      "grid_gap": null,
      "grid_row": null,
      "grid_template_areas": null,
      "grid_template_columns": null,
      "grid_template_rows": null,
      "height": null,
      "justify_content": null,
      "justify_items": null,
      "left": null,
      "margin": null,
      "max_height": null,
      "max_width": null,
      "min_height": null,
      "min_width": null,
      "object_fit": null,
      "object_position": null,
      "order": null,
      "overflow": null,
      "overflow_x": null,
      "overflow_y": null,
      "padding": null,
      "right": null,
      "top": null,
      "visibility": null,
      "width": null
     }
    },
    "efbba03209f5470f8503d88b685415aa": {
     "model_module": "@jupyter-widgets/base",
     "model_module_version": "1.2.0",
     "model_name": "LayoutModel",
     "state": {
      "_model_module": "@jupyter-widgets/base",
      "_model_module_version": "1.2.0",
      "_model_name": "LayoutModel",
      "_view_count": null,
      "_view_module": "@jupyter-widgets/base",
      "_view_module_version": "1.2.0",
      "_view_name": "LayoutView",
      "align_content": null,
      "align_items": null,
      "align_self": null,
      "border": null,
      "bottom": null,
      "display": null,
      "flex": null,
      "flex_flow": null,
      "grid_area": null,
      "grid_auto_columns": null,
      "grid_auto_flow": null,
      "grid_auto_rows": null,
      "grid_column": null,
      "grid_gap": null,
      "grid_row": null,
      "grid_template_areas": null,
      "grid_template_columns": null,
      "grid_template_rows": null,
      "height": null,
      "justify_content": null,
      "justify_items": null,
      "left": null,
      "margin": null,
      "max_height": null,
      "max_width": null,
      "min_height": null,
      "min_width": null,
      "object_fit": null,
      "object_position": null,
      "order": null,
      "overflow": null,
      "overflow_x": null,
      "overflow_y": null,
      "padding": null,
      "right": null,
      "top": null,
      "visibility": null,
      "width": null
     }
    },
    "f0b50ee2438c45cab7201c8d26fdae40": {
     "model_module": "@jupyter-widgets/base",
     "model_module_version": "1.2.0",
     "model_name": "LayoutModel",
     "state": {
      "_model_module": "@jupyter-widgets/base",
      "_model_module_version": "1.2.0",
      "_model_name": "LayoutModel",
      "_view_count": null,
      "_view_module": "@jupyter-widgets/base",
      "_view_module_version": "1.2.0",
      "_view_name": "LayoutView",
      "align_content": null,
      "align_items": null,
      "align_self": null,
      "border": null,
      "bottom": null,
      "display": null,
      "flex": null,
      "flex_flow": null,
      "grid_area": null,
      "grid_auto_columns": null,
      "grid_auto_flow": null,
      "grid_auto_rows": null,
      "grid_column": null,
      "grid_gap": null,
      "grid_row": null,
      "grid_template_areas": null,
      "grid_template_columns": null,
      "grid_template_rows": null,
      "height": null,
      "justify_content": null,
      "justify_items": null,
      "left": null,
      "margin": null,
      "max_height": null,
      "max_width": null,
      "min_height": null,
      "min_width": null,
      "object_fit": null,
      "object_position": null,
      "order": null,
      "overflow": null,
      "overflow_x": null,
      "overflow_y": null,
      "padding": null,
      "right": null,
      "top": null,
      "visibility": null,
      "width": null
     }
    }
   }
  }
 },
 "nbformat": 4,
 "nbformat_minor": 4
}
